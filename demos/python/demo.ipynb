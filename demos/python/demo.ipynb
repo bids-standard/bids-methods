{
 "cells": [
  {
   "cell_type": "markdown",
   "metadata": {},
   "source": [
    "Script to view what the templates would look like after rendering."
   ]
  },
  {
   "cell_type": "code",
   "execution_count": 1,
   "metadata": {},
   "outputs": [],
   "source": [
    "from pathlib import Path\n",
    "\n",
    "import chevron\n",
    "from rich import print\n",
    "\n",
    "from bids import BIDSLayout"
   ]
  },
  {
   "cell_type": "code",
   "execution_count": 2,
   "metadata": {},
   "outputs": [],
   "source": [
    "def root_dir() -> Path:\n",
    "    return Path().absolute().parents[1]\n",
    "\n",
    "\n",
    "def highlight_missing_tags(text: str) -> str:\n",
    "    \"\"\"Highlights all text in blue and missing info in red.\"\"\"\n",
    "    text = f\"[blue]{text}[/blue]\"\n",
    "    text = text.replace(\"{{\", \"[/blue][red]{{\")\n",
    "    text = text.replace(\"}}\", \"}}[/red][blue]\")\n",
    "    return text\n",
    "\n",
    "\n",
    "def print_to_screen(layout, template_name, suffix, keep) -> None:\n",
    "    \"\"\"Get files for a certain suffix and render their method section.\"\"\"\n",
    "    files = layout.get(suffix=suffix)\n",
    "\n",
    "    if len(files) < 1:\n",
    "        return\n",
    "\n",
    "    metadata = files[0].get_metadata()\n",
    "    metadata[\"suffix\"] = suffix\n",
    "\n",
    "    render_template(template_name, metadata, keep)\n",
    "\n",
    "\n",
    "def render_template(template_name, metadata, keep) -> None:\n",
    "    \"\"\"Render a specific template\"\"\"\n",
    "    templates_dir = root_dir() / \"templates\"\n",
    "\n",
    "    partials_path = root_dir() / \"partials\"\n",
    "\n",
    "    with open(templates_dir / template_name, \"r\") as template:\n",
    "        args = {\n",
    "            \"template\": template,\n",
    "            \"data\": metadata,\n",
    "            \"partials_path\": partials_path,\n",
    "            \"keep\": keep,\n",
    "        }\n",
    "\n",
    "        text = chevron.render(**args)\n",
    "\n",
    "        print(highlight_missing_tags(text))\n",
    "\n",
    "def render_method_section_bids_dataset(dataset, keep):\n",
    "    data_dir = root_dir() / \"demos\" / \"data\" / \"bids-examples\"\n",
    "\n",
    "    data_path = data_dir / dataset\n",
    "\n",
    "    layout = BIDSLayout(data_path)\n",
    "\n",
    "    # %%\n",
    "    print(f\"\\n[bold]# MRI[/bold]\")\n",
    "\n",
    "    files = layout.get(suffix=\"T1w\")\n",
    "    if len(files) > 1:\n",
    "        metadata = files[0].get_metadata()\n",
    "        render_template(\"institution.mustache\", metadata, keep)\n",
    "        render_template(\"mri_scanner_info.mustache\", metadata, keep)\n",
    "\n",
    "    suffix_template = {\n",
    "        \"T1w\": \"anat\",\n",
    "        \"bold\": \"func\",\n",
    "        \"dwi\": \"dwi\",\n",
    "        \"perf\": \"perf\",\n",
    "    }\n",
    "\n",
    "    for suffix, template in suffix_template.items():\n",
    "        print(f\"\\n[bold]## {suffix.upper()}[/bold]\")\n",
    "        print_to_screen(layout, f\"{template}.mustache\", suffix, keep)\n",
    "\n",
    "    # %%\n",
    "    print(f\"\\n[bold]# PET[/bold]\")\n",
    "\n",
    "    print(f\"\\n[bold]## {'pet'.upper()}[/bold]\")\n",
    "    print_to_screen(layout, \"pet.mustache\", suffix, keep)\n",
    "\n",
    "    # %%\n",
    "    print(f\"\\n[bold]# MEEG[/bold]\")\n",
    "\n",
    "    suffix_template = {\n",
    "        \"eeg\": \"meeg\",\n",
    "        \"meg\": \"meeg\",\n",
    "    }\n",
    "\n",
    "    for suffix, template in suffix_template.items():\n",
    "        print(f\"\\n[bold]## {suffix.upper()}[/bold]\")\n",
    "        print_to_screen(layout, f\"{template}.mustache\", suffix, keep)"
   ]
  },
  {
   "cell_type": "code",
   "execution_count": 3,
   "metadata": {},
   "outputs": [
    {
     "data": {
      "text/html": [
       "<pre style=\"white-space:pre;overflow-x:auto;line-height:normal;font-family:Menlo,'DejaVu Sans Mono',consolas,'Courier New',monospace\">\n",
       "<span style=\"font-weight: bold\"># MRI</span>\n",
       "</pre>\n"
      ],
      "text/plain": [
       "\n",
       "\u001b[1m# MRI\u001b[0m\n"
      ]
     },
     "metadata": {},
     "output_type": "display_data"
    },
    {
     "data": {
      "text/html": [
       "<pre style=\"white-space:pre;overflow-x:auto;line-height:normal;font-family:Menlo,'DejaVu Sans Mono',consolas,'Courier New',monospace\">\n",
       "<span style=\"color: #000080; text-decoration-color: #000080\">The data acquisition was performed in the </span><span style=\"color: #800000; text-decoration-color: #800000; font-weight: bold\">{{</span><span style=\"color: #800000; text-decoration-color: #800000\"> InstitutionName </span><span style=\"color: #800000; text-decoration-color: #800000; font-weight: bold\">}}</span><span style=\"color: #000080; text-decoration-color: #000080\">, </span><span style=\"color: #800000; text-decoration-color: #800000; font-weight: bold\">{{</span><span style=\"color: #800000; text-decoration-color: #800000\"> InstitutionalDepartmentName </span><span style=\"color: #800000; text-decoration-color: #800000; font-weight: bold\">}}</span><span style=\"color: #000080; text-decoration-color: #000080\">, </span><span style=\"color: #800000; text-decoration-color: #800000; font-weight: bold\">{{</span><span style=\"color: #800000; text-decoration-color: #800000\"> </span>\n",
       "<span style=\"color: #800000; text-decoration-color: #800000\">InstitutionAddress </span><span style=\"color: #800000; text-decoration-color: #800000; font-weight: bold\">}}</span><span style=\"color: #000080; text-decoration-color: #000080\">.</span>\n",
       "\n",
       "</pre>\n"
      ],
      "text/plain": [
       "\n",
       "\u001b[34mThe data acquisition was performed in the \u001b[0m\u001b[1;31m{\u001b[0m\u001b[1;31m{\u001b[0m\u001b[31m InstitutionName \u001b[0m\u001b[1;31m}\u001b[0m\u001b[1;31m}\u001b[0m\u001b[34m, \u001b[0m\u001b[1;31m{\u001b[0m\u001b[1;31m{\u001b[0m\u001b[31m InstitutionalDepartmentName \u001b[0m\u001b[1;31m}\u001b[0m\u001b[1;31m}\u001b[0m\u001b[34m, \u001b[0m\u001b[1;31m{\u001b[0m\u001b[1;31m{\u001b[0m\u001b[31m \u001b[0m\n",
       "\u001b[31mInstitutionAddress \u001b[0m\u001b[1;31m}\u001b[0m\u001b[1;31m}\u001b[0m\u001b[34m.\u001b[0m\n",
       "\n"
      ]
     },
     "metadata": {},
     "output_type": "display_data"
    },
    {
     "data": {
      "text/html": [
       "<pre style=\"white-space:pre;overflow-x:auto;line-height:normal;font-family:Menlo,'DejaVu Sans Mono',consolas,'Courier New',monospace\"><span style=\"color: #000080; text-decoration-color: #000080\">MRI data were acquired using a </span><span style=\"color: #800000; text-decoration-color: #800000; font-weight: bold\">{{</span><span style=\"color: #800000; text-decoration-color: #800000\"> field_strength </span><span style=\"color: #800000; text-decoration-color: #800000; font-weight: bold\">}}</span><span style=\"color: #000080; text-decoration-color: #000080\"> Tesla using a </span><span style=\"color: #800000; text-decoration-color: #800000; font-weight: bold\">{{</span><span style=\"color: #800000; text-decoration-color: #800000\"> model_name </span><span style=\"color: #800000; text-decoration-color: #800000; font-weight: bold\">}}</span><span style=\"color: #000080; text-decoration-color: #000080\"> system from </span><span style=\"color: #800000; text-decoration-color: #800000; font-weight: bold\">{{</span><span style=\"color: #800000; text-decoration-color: #800000\"> manufacturer </span><span style=\"color: #800000; text-decoration-color: #800000; font-weight: bold\">}}</span><span style=\"color: #000080; text-decoration-color: #000080\"> </span>\n",
       "<span style=\"color: #000080; text-decoration-color: #000080\">with serial number </span><span style=\"color: #800000; text-decoration-color: #800000; font-weight: bold\">{{</span><span style=\"color: #800000; text-decoration-color: #800000\"> DeviceSerialNumber </span><span style=\"color: #800000; text-decoration-color: #800000; font-weight: bold\">}}</span><span style=\"color: #000080; text-decoration-color: #000080\">.</span>\n",
       "<span style=\"color: #000080; text-decoration-color: #000080\">The software version was </span><span style=\"color: #800000; text-decoration-color: #800000; font-weight: bold\">{{</span><span style=\"color: #800000; text-decoration-color: #800000\"> SoftwareVersions </span><span style=\"color: #800000; text-decoration-color: #800000; font-weight: bold\">}}</span><span style=\"color: #000080; text-decoration-color: #000080\">.</span>\n",
       "</pre>\n"
      ],
      "text/plain": [
       "\u001b[34mMRI data were acquired using a \u001b[0m\u001b[1;31m{\u001b[0m\u001b[1;31m{\u001b[0m\u001b[31m field_strength \u001b[0m\u001b[1;31m}\u001b[0m\u001b[1;31m}\u001b[0m\u001b[34m Tesla using a \u001b[0m\u001b[1;31m{\u001b[0m\u001b[1;31m{\u001b[0m\u001b[31m model_name \u001b[0m\u001b[1;31m}\u001b[0m\u001b[1;31m}\u001b[0m\u001b[34m system from \u001b[0m\u001b[1;31m{\u001b[0m\u001b[1;31m{\u001b[0m\u001b[31m manufacturer \u001b[0m\u001b[1;31m}\u001b[0m\u001b[1;31m}\u001b[0m\u001b[34m \u001b[0m\n",
       "\u001b[34mwith serial number \u001b[0m\u001b[1;31m{\u001b[0m\u001b[1;31m{\u001b[0m\u001b[31m DeviceSerialNumber \u001b[0m\u001b[1;31m}\u001b[0m\u001b[1;31m}\u001b[0m\u001b[34m.\u001b[0m\n",
       "\u001b[34mThe software version was \u001b[0m\u001b[1;31m{\u001b[0m\u001b[1;31m{\u001b[0m\u001b[31m SoftwareVersions \u001b[0m\u001b[1;31m}\u001b[0m\u001b[1;31m}\u001b[0m\u001b[34m.\u001b[0m\n"
      ]
     },
     "metadata": {},
     "output_type": "display_data"
    },
    {
     "data": {
      "text/html": [
       "<pre style=\"white-space:pre;overflow-x:auto;line-height:normal;font-family:Menlo,'DejaVu Sans Mono',consolas,'Courier New',monospace\">\n",
       "<span style=\"font-weight: bold\">## T1W</span>\n",
       "</pre>\n"
      ],
      "text/plain": [
       "\n",
       "\u001b[1m## T1W\u001b[0m\n"
      ]
     },
     "metadata": {},
     "output_type": "display_data"
    },
    {
     "data": {
      "text/html": [
       "<pre style=\"white-space:pre;overflow-x:auto;line-height:normal;font-family:Menlo,'DejaVu Sans Mono',consolas,'Courier New',monospace\"><span style=\"color: #800000; text-decoration-color: #800000; font-weight: bold\">{{</span><span style=\"color: #800000; text-decoration-color: #800000\"> nb_runs </span><span style=\"color: #800000; text-decoration-color: #800000; font-weight: bold\">}}</span><span style=\"color: #000080; text-decoration-color: #000080\"> of </span><span style=\"color: #800000; text-decoration-color: #800000; font-weight: bold\">{{</span><span style=\"color: #800000; text-decoration-color: #800000\"> scan_type </span><span style=\"color: #800000; text-decoration-color: #800000; font-weight: bold\">}}</span><span style=\"color: #000080; text-decoration-color: #000080\"> </span><span style=\"color: #800000; text-decoration-color: #800000; font-weight: bold\">{{</span><span style=\"color: #800000; text-decoration-color: #800000\"> PulseSequenceType </span><span style=\"color: #800000; text-decoration-color: #800000; font-weight: bold\">}}</span><span style=\"color: #000080; text-decoration-color: #000080\"> </span><span style=\"color: #800000; text-decoration-color: #800000; font-weight: bold\">{{</span><span style=\"color: #800000; text-decoration-color: #800000\"> seqs </span><span style=\"color: #800000; text-decoration-color: #800000; font-weight: bold\">}}</span><span style=\"color: #000080; text-decoration-color: #000080\"> </span><span style=\"color: #800000; text-decoration-color: #800000; font-weight: bold\">{{</span><span style=\"color: #800000; text-decoration-color: #800000\"> variants </span><span style=\"color: #800000; text-decoration-color: #800000; font-weight: bold\">}}</span><span style=\"color: #000080; text-decoration-color: #000080\"> </span><span style=\"color: #800000; text-decoration-color: #800000; font-weight: bold\">{{</span><span style=\"color: #800000; text-decoration-color: #800000\"> multi_echo </span><span style=\"color: #800000; text-decoration-color: #800000; font-weight: bold\">}}</span><span style=\"color: #000080; text-decoration-color: #000080\"> structural MRI </span>\n",
       "<span style=\"color: #000080; text-decoration-color: #000080\">data were collected </span><span style=\"color: #000080; text-decoration-color: #000080; font-weight: bold\">(</span><span style=\"color: #000080; text-decoration-color: #000080\">repetition time, </span><span style=\"color: #000080; text-decoration-color: #000080\">TR</span><span style=\"color: #000080; text-decoration-color: #000080\">= </span><span style=\"color: #800000; text-decoration-color: #800000; font-weight: bold\">{{</span><span style=\"color: #800000; text-decoration-color: #800000\"> tr </span><span style=\"color: #800000; text-decoration-color: #800000; font-weight: bold\">}}</span><span style=\"color: #000080; text-decoration-color: #000080\"> ms; flip angle, </span><span style=\"color: #000080; text-decoration-color: #000080\">FA</span><span style=\"color: #000080; text-decoration-color: #000080\">= </span><span style=\"color: #800000; text-decoration-color: #800000; font-weight: bold\">{{</span><span style=\"color: #800000; text-decoration-color: #800000\"> flip_angle </span><span style=\"color: #800000; text-decoration-color: #800000; font-weight: bold\">}}</span><span style=\"color: #000080; text-decoration-color: #000080\">°; echo time, </span><span style=\"color: #000080; text-decoration-color: #000080\">TE</span><span style=\"color: #000080; text-decoration-color: #000080\">= </span><span style=\"color: #800000; text-decoration-color: #800000; font-weight: bold\">{{</span><span style=\"color: #800000; text-decoration-color: #800000\"> </span>\n",
       "<span style=\"color: #800000; text-decoration-color: #800000\">echo_time </span><span style=\"color: #800000; text-decoration-color: #800000; font-weight: bold\">}}</span><span style=\"color: #000080; text-decoration-color: #000080\"> ms; field of view </span><span style=\"color: #000080; text-decoration-color: #000080\">FOV</span><span style=\"color: #000080; text-decoration-color: #000080\">= </span><span style=\"color: #800000; text-decoration-color: #800000; font-weight: bold\">{{</span><span style=\"color: #800000; text-decoration-color: #800000\"> fov </span><span style=\"color: #800000; text-decoration-color: #800000; font-weight: bold\">}}</span><span style=\"color: #000080; text-decoration-color: #000080\"> mm; matrix </span><span style=\"color: #000080; text-decoration-color: #000080\">size</span><span style=\"color: #000080; text-decoration-color: #000080\">= </span><span style=\"color: #800000; text-decoration-color: #800000; font-weight: bold\">{{</span><span style=\"color: #800000; text-decoration-color: #800000\"> matrix_size </span><span style=\"color: #800000; text-decoration-color: #800000; font-weight: bold\">}}</span><span style=\"color: #000080; text-decoration-color: #000080\">; voxel </span><span style=\"color: #000080; text-decoration-color: #000080\">size</span><span style=\"color: #000080; text-decoration-color: #000080\">= </span><span style=\"color: #800000; text-decoration-color: #800000; font-weight: bold\">{{</span><span style=\"color: #800000; text-decoration-color: #800000\"> voxel_size </span><span style=\"color: #800000; text-decoration-color: #800000; font-weight: bold\">}}</span><span style=\"color: #000080; text-decoration-color: #000080\"> mm; </span>\n",
       "<span style=\"color: #800000; text-decoration-color: #800000; font-weight: bold\">{{</span><span style=\"color: #800000; text-decoration-color: #800000\"> nb_slices </span><span style=\"color: #800000; text-decoration-color: #800000; font-weight: bold\">}}</span><span style=\"color: #000080; text-decoration-color: #000080\"> slices</span><span style=\"color: #000080; text-decoration-color: #000080; font-weight: bold\">)</span><span style=\"color: #000080; text-decoration-color: #000080\">.</span>\n",
       "\n",
       "</pre>\n"
      ],
      "text/plain": [
       "\u001b[1;31m{\u001b[0m\u001b[1;31m{\u001b[0m\u001b[31m nb_runs \u001b[0m\u001b[1;31m}\u001b[0m\u001b[1;31m}\u001b[0m\u001b[34m of \u001b[0m\u001b[1;31m{\u001b[0m\u001b[1;31m{\u001b[0m\u001b[31m scan_type \u001b[0m\u001b[1;31m}\u001b[0m\u001b[1;31m}\u001b[0m\u001b[34m \u001b[0m\u001b[1;31m{\u001b[0m\u001b[1;31m{\u001b[0m\u001b[31m PulseSequenceType \u001b[0m\u001b[1;31m}\u001b[0m\u001b[1;31m}\u001b[0m\u001b[34m \u001b[0m\u001b[1;31m{\u001b[0m\u001b[1;31m{\u001b[0m\u001b[31m seqs \u001b[0m\u001b[1;31m}\u001b[0m\u001b[1;31m}\u001b[0m\u001b[34m \u001b[0m\u001b[1;31m{\u001b[0m\u001b[1;31m{\u001b[0m\u001b[31m variants \u001b[0m\u001b[1;31m}\u001b[0m\u001b[1;31m}\u001b[0m\u001b[34m \u001b[0m\u001b[1;31m{\u001b[0m\u001b[1;31m{\u001b[0m\u001b[31m multi_echo \u001b[0m\u001b[1;31m}\u001b[0m\u001b[1;31m}\u001b[0m\u001b[34m structural MRI \u001b[0m\n",
       "\u001b[34mdata were collected \u001b[0m\u001b[1;34m(\u001b[0m\u001b[34mrepetition time, \u001b[0m\u001b[34mTR\u001b[0m\u001b[34m= \u001b[0m\u001b[1;31m{\u001b[0m\u001b[1;31m{\u001b[0m\u001b[31m tr \u001b[0m\u001b[1;31m}\u001b[0m\u001b[1;31m}\u001b[0m\u001b[34m ms; flip angle, \u001b[0m\u001b[34mFA\u001b[0m\u001b[34m= \u001b[0m\u001b[1;31m{\u001b[0m\u001b[1;31m{\u001b[0m\u001b[31m flip_angle \u001b[0m\u001b[1;31m}\u001b[0m\u001b[1;31m}\u001b[0m\u001b[34m°; echo time, \u001b[0m\u001b[34mTE\u001b[0m\u001b[34m= \u001b[0m\u001b[1;31m{\u001b[0m\u001b[1;31m{\u001b[0m\u001b[31m \u001b[0m\n",
       "\u001b[31mecho_time \u001b[0m\u001b[1;31m}\u001b[0m\u001b[1;31m}\u001b[0m\u001b[34m ms; field of view \u001b[0m\u001b[34mFOV\u001b[0m\u001b[34m= \u001b[0m\u001b[1;31m{\u001b[0m\u001b[1;31m{\u001b[0m\u001b[31m fov \u001b[0m\u001b[1;31m}\u001b[0m\u001b[1;31m}\u001b[0m\u001b[34m mm; matrix \u001b[0m\u001b[34msize\u001b[0m\u001b[34m= \u001b[0m\u001b[1;31m{\u001b[0m\u001b[1;31m{\u001b[0m\u001b[31m matrix_size \u001b[0m\u001b[1;31m}\u001b[0m\u001b[1;31m}\u001b[0m\u001b[34m; voxel \u001b[0m\u001b[34msize\u001b[0m\u001b[34m= \u001b[0m\u001b[1;31m{\u001b[0m\u001b[1;31m{\u001b[0m\u001b[31m voxel_size \u001b[0m\u001b[1;31m}\u001b[0m\u001b[1;31m}\u001b[0m\u001b[34m mm; \u001b[0m\n",
       "\u001b[1;31m{\u001b[0m\u001b[1;31m{\u001b[0m\u001b[31m nb_slices \u001b[0m\u001b[1;31m}\u001b[0m\u001b[1;31m}\u001b[0m\u001b[34m slices\u001b[0m\u001b[1;34m)\u001b[0m\u001b[34m.\u001b[0m\n",
       "\n"
      ]
     },
     "metadata": {},
     "output_type": "display_data"
    },
    {
     "data": {
      "text/html": [
       "<pre style=\"white-space:pre;overflow-x:auto;line-height:normal;font-family:Menlo,'DejaVu Sans Mono',consolas,'Courier New',monospace\">\n",
       "<span style=\"font-weight: bold\">## BOLD</span>\n",
       "</pre>\n"
      ],
      "text/plain": [
       "\n",
       "\u001b[1m## BOLD\u001b[0m\n"
      ]
     },
     "metadata": {},
     "output_type": "display_data"
    },
    {
     "data": {
      "text/html": [
       "<pre style=\"white-space:pre;overflow-x:auto;line-height:normal;font-family:Menlo,'DejaVu Sans Mono',consolas,'Courier New',monospace\"><span style=\"color: #000080; text-decoration-color: #000080\">For the </span><span style=\"color: #800000; text-decoration-color: #800000; font-weight: bold\">{{</span><span style=\"color: #800000; text-decoration-color: #800000\"> task_name </span><span style=\"color: #800000; text-decoration-color: #800000; font-weight: bold\">}}</span><span style=\"color: #000080; text-decoration-color: #000080\"> task </span><span style=\"color: #800000; text-decoration-color: #800000; font-weight: bold\">{{</span><span style=\"color: #800000; text-decoration-color: #800000\"> nb_runs </span><span style=\"color: #800000; text-decoration-color: #800000; font-weight: bold\">}}</span><span style=\"color: #000080; text-decoration-color: #000080\"> of </span><span style=\"color: #800000; text-decoration-color: #800000; font-weight: bold\">{{</span><span style=\"color: #800000; text-decoration-color: #800000\"> scan_type </span><span style=\"color: #800000; text-decoration-color: #800000; font-weight: bold\">}}</span><span style=\"color: #000080; text-decoration-color: #000080\"> EPI </span><span style=\"color: #800000; text-decoration-color: #800000; font-weight: bold\">{{</span><span style=\"color: #800000; text-decoration-color: #800000\"> seqs </span><span style=\"color: #800000; text-decoration-color: #800000; font-weight: bold\">}}</span><span style=\"color: #000080; text-decoration-color: #000080\"> </span><span style=\"color: #800000; text-decoration-color: #800000; font-weight: bold\">{{</span><span style=\"color: #800000; text-decoration-color: #800000\"> variants </span><span style=\"color: #800000; text-decoration-color: #800000; font-weight: bold\">}}</span><span style=\"color: #000080; text-decoration-color: #000080\"> </span><span style=\"color: #800000; text-decoration-color: #800000; font-weight: bold\">{{</span><span style=\"color: #800000; text-decoration-color: #800000\"> multi_echo </span><span style=\"color: #800000; text-decoration-color: #800000; font-weight: bold\">}}</span><span style=\"color: #000080; text-decoration-color: #000080\"> fMRI </span>\n",
       "<span style=\"color: #000080; text-decoration-color: #000080\">data were collected. The acquisition parameters were: </span><span style=\"color: #800000; text-decoration-color: #800000; font-weight: bold\">{{</span><span style=\"color: #800000; text-decoration-color: #800000\"> nb_slices </span><span style=\"color: #800000; text-decoration-color: #800000; font-weight: bold\">}}</span><span style=\"color: #000080; text-decoration-color: #000080\"> slices acquired in a </span><span style=\"color: #800000; text-decoration-color: #800000; font-weight: bold\">{{</span><span style=\"color: #800000; text-decoration-color: #800000\"> so_str </span><span style=\"color: #800000; text-decoration-color: #800000; font-weight: bold\">}}</span><span style=\"color: #000080; text-decoration-color: #000080\"> fashion; </span>\n",
       "<span style=\"color: #000080; text-decoration-color: #000080\">repetition time, </span><span style=\"color: #000080; text-decoration-color: #000080\">TR</span><span style=\"color: #000080; text-decoration-color: #000080\">= </span><span style=\"color: #800000; text-decoration-color: #800000; font-weight: bold\">{{</span><span style=\"color: #800000; text-decoration-color: #800000\"> tr </span><span style=\"color: #800000; text-decoration-color: #800000; font-weight: bold\">}}</span><span style=\"color: #000080; text-decoration-color: #000080\"> ms; flip angle, </span><span style=\"color: #000080; text-decoration-color: #000080\">FA</span><span style=\"color: #000080; text-decoration-color: #000080\">= </span><span style=\"color: #800000; text-decoration-color: #800000; font-weight: bold\">{{</span><span style=\"color: #800000; text-decoration-color: #800000\"> flip_angle </span><span style=\"color: #800000; text-decoration-color: #800000; font-weight: bold\">}}</span><span style=\"color: #000080; text-decoration-color: #000080\">°; echo time, </span><span style=\"color: #000080; text-decoration-color: #000080\">TE</span><span style=\"color: #000080; text-decoration-color: #000080\">= </span><span style=\"color: #800000; text-decoration-color: #800000; font-weight: bold\">{{</span><span style=\"color: #800000; text-decoration-color: #800000\"> echo_time </span><span style=\"color: #800000; text-decoration-color: #800000; font-weight: bold\">}}</span><span style=\"color: #000080; text-decoration-color: #000080\"> ms; </span><span style=\"color: #800000; text-decoration-color: #800000; font-weight: bold\">{{</span><span style=\"color: #800000; text-decoration-color: #800000\"> </span>\n",
       "<span style=\"color: #800000; text-decoration-color: #800000\">slice_order </span><span style=\"color: #800000; text-decoration-color: #800000; font-weight: bold\">}}</span><span style=\"color: #000080; text-decoration-color: #000080\">; </span><span style=\"color: #800000; text-decoration-color: #800000; font-weight: bold\">{{</span><span style=\"color: #800000; text-decoration-color: #800000\"> multiband_factor </span><span style=\"color: #800000; text-decoration-color: #800000; font-weight: bold\">}}</span><span style=\"color: #000080; text-decoration-color: #000080\">; in-plane acceleration </span><span style=\"color: #000080; text-decoration-color: #000080\">factor</span><span style=\"color: #000080; text-decoration-color: #000080\">= </span><span style=\"color: #800000; text-decoration-color: #800000; font-weight: bold\">{{</span><span style=\"color: #800000; text-decoration-color: #800000\"> inplane_accel </span><span style=\"color: #800000; text-decoration-color: #800000; font-weight: bold\">}}</span><span style=\"color: #000080; text-decoration-color: #000080\">; field of view </span><span style=\"color: #000080; text-decoration-color: #000080\">FOV</span><span style=\"color: #000080; text-decoration-color: #000080\">= </span><span style=\"color: #800000; text-decoration-color: #800000; font-weight: bold\">{{</span><span style=\"color: #800000; text-decoration-color: #800000\"> </span>\n",
       "<span style=\"color: #800000; text-decoration-color: #800000\">fov </span><span style=\"color: #800000; text-decoration-color: #800000; font-weight: bold\">}}</span><span style=\"color: #000080; text-decoration-color: #000080\"> mm; matrix </span><span style=\"color: #000080; text-decoration-color: #000080\">size</span><span style=\"color: #000080; text-decoration-color: #000080\">= </span><span style=\"color: #800000; text-decoration-color: #800000; font-weight: bold\">{{</span><span style=\"color: #800000; text-decoration-color: #800000\"> matrix_size </span><span style=\"color: #800000; text-decoration-color: #800000; font-weight: bold\">}}</span><span style=\"color: #000080; text-decoration-color: #000080\">; voxel </span><span style=\"color: #000080; text-decoration-color: #000080\">size</span><span style=\"color: #000080; text-decoration-color: #000080\">= </span><span style=\"color: #800000; text-decoration-color: #800000; font-weight: bold\">{{</span><span style=\"color: #800000; text-decoration-color: #800000\"> voxel_size </span><span style=\"color: #800000; text-decoration-color: #800000; font-weight: bold\">}}</span><span style=\"color: #000080; text-decoration-color: #000080\"> mm;</span>\n",
       "<span style=\"color: #000080; text-decoration-color: #000080\">Each run was </span><span style=\"color: #800000; text-decoration-color: #800000; font-weight: bold\">{{</span><span style=\"color: #800000; text-decoration-color: #800000\"> duration </span><span style=\"color: #800000; text-decoration-color: #800000; font-weight: bold\">}}</span><span style=\"color: #000080; text-decoration-color: #000080\"> minutes in length, during which </span><span style=\"color: #800000; text-decoration-color: #800000; font-weight: bold\">{{</span><span style=\"color: #800000; text-decoration-color: #800000\"> nb_vols </span><span style=\"color: #800000; text-decoration-color: #800000; font-weight: bold\">}}</span><span style=\"color: #000080; text-decoration-color: #000080\"> functional volumes were acquired.</span>\n",
       "<span style=\"color: #800000; text-decoration-color: #800000; font-weight: bold\">{{</span><span style=\"color: #800000; text-decoration-color: #800000\"> TaskDescription </span><span style=\"color: #800000; text-decoration-color: #800000; font-weight: bold\">}}</span>\n",
       "<span style=\"color: #000080; text-decoration-color: #000080\">Participants were specifically instructed to: </span><span style=\"color: #800000; text-decoration-color: #800000; font-weight: bold\">{{</span><span style=\"color: #800000; text-decoration-color: #800000\"> Instructions </span><span style=\"color: #800000; text-decoration-color: #800000; font-weight: bold\">}}</span>\n",
       "</pre>\n"
      ],
      "text/plain": [
       "\u001b[34mFor the \u001b[0m\u001b[1;31m{\u001b[0m\u001b[1;31m{\u001b[0m\u001b[31m task_name \u001b[0m\u001b[1;31m}\u001b[0m\u001b[1;31m}\u001b[0m\u001b[34m task \u001b[0m\u001b[1;31m{\u001b[0m\u001b[1;31m{\u001b[0m\u001b[31m nb_runs \u001b[0m\u001b[1;31m}\u001b[0m\u001b[1;31m}\u001b[0m\u001b[34m of \u001b[0m\u001b[1;31m{\u001b[0m\u001b[1;31m{\u001b[0m\u001b[31m scan_type \u001b[0m\u001b[1;31m}\u001b[0m\u001b[1;31m}\u001b[0m\u001b[34m EPI \u001b[0m\u001b[1;31m{\u001b[0m\u001b[1;31m{\u001b[0m\u001b[31m seqs \u001b[0m\u001b[1;31m}\u001b[0m\u001b[1;31m}\u001b[0m\u001b[34m \u001b[0m\u001b[1;31m{\u001b[0m\u001b[1;31m{\u001b[0m\u001b[31m variants \u001b[0m\u001b[1;31m}\u001b[0m\u001b[1;31m}\u001b[0m\u001b[34m \u001b[0m\u001b[1;31m{\u001b[0m\u001b[1;31m{\u001b[0m\u001b[31m multi_echo \u001b[0m\u001b[1;31m}\u001b[0m\u001b[1;31m}\u001b[0m\u001b[34m fMRI \u001b[0m\n",
       "\u001b[34mdata were collected. The acquisition parameters were: \u001b[0m\u001b[1;31m{\u001b[0m\u001b[1;31m{\u001b[0m\u001b[31m nb_slices \u001b[0m\u001b[1;31m}\u001b[0m\u001b[1;31m}\u001b[0m\u001b[34m slices acquired in a \u001b[0m\u001b[1;31m{\u001b[0m\u001b[1;31m{\u001b[0m\u001b[31m so_str \u001b[0m\u001b[1;31m}\u001b[0m\u001b[1;31m}\u001b[0m\u001b[34m fashion; \u001b[0m\n",
       "\u001b[34mrepetition time, \u001b[0m\u001b[34mTR\u001b[0m\u001b[34m= \u001b[0m\u001b[1;31m{\u001b[0m\u001b[1;31m{\u001b[0m\u001b[31m tr \u001b[0m\u001b[1;31m}\u001b[0m\u001b[1;31m}\u001b[0m\u001b[34m ms; flip angle, \u001b[0m\u001b[34mFA\u001b[0m\u001b[34m= \u001b[0m\u001b[1;31m{\u001b[0m\u001b[1;31m{\u001b[0m\u001b[31m flip_angle \u001b[0m\u001b[1;31m}\u001b[0m\u001b[1;31m}\u001b[0m\u001b[34m°; echo time, \u001b[0m\u001b[34mTE\u001b[0m\u001b[34m= \u001b[0m\u001b[1;31m{\u001b[0m\u001b[1;31m{\u001b[0m\u001b[31m echo_time \u001b[0m\u001b[1;31m}\u001b[0m\u001b[1;31m}\u001b[0m\u001b[34m ms; \u001b[0m\u001b[1;31m{\u001b[0m\u001b[1;31m{\u001b[0m\u001b[31m \u001b[0m\n",
       "\u001b[31mslice_order \u001b[0m\u001b[1;31m}\u001b[0m\u001b[1;31m}\u001b[0m\u001b[34m; \u001b[0m\u001b[1;31m{\u001b[0m\u001b[1;31m{\u001b[0m\u001b[31m multiband_factor \u001b[0m\u001b[1;31m}\u001b[0m\u001b[1;31m}\u001b[0m\u001b[34m; in-plane acceleration \u001b[0m\u001b[34mfactor\u001b[0m\u001b[34m= \u001b[0m\u001b[1;31m{\u001b[0m\u001b[1;31m{\u001b[0m\u001b[31m inplane_accel \u001b[0m\u001b[1;31m}\u001b[0m\u001b[1;31m}\u001b[0m\u001b[34m; field of view \u001b[0m\u001b[34mFOV\u001b[0m\u001b[34m= \u001b[0m\u001b[1;31m{\u001b[0m\u001b[1;31m{\u001b[0m\u001b[31m \u001b[0m\n",
       "\u001b[31mfov \u001b[0m\u001b[1;31m}\u001b[0m\u001b[1;31m}\u001b[0m\u001b[34m mm; matrix \u001b[0m\u001b[34msize\u001b[0m\u001b[34m= \u001b[0m\u001b[1;31m{\u001b[0m\u001b[1;31m{\u001b[0m\u001b[31m matrix_size \u001b[0m\u001b[1;31m}\u001b[0m\u001b[1;31m}\u001b[0m\u001b[34m; voxel \u001b[0m\u001b[34msize\u001b[0m\u001b[34m= \u001b[0m\u001b[1;31m{\u001b[0m\u001b[1;31m{\u001b[0m\u001b[31m voxel_size \u001b[0m\u001b[1;31m}\u001b[0m\u001b[1;31m}\u001b[0m\u001b[34m mm;\u001b[0m\n",
       "\u001b[34mEach run was \u001b[0m\u001b[1;31m{\u001b[0m\u001b[1;31m{\u001b[0m\u001b[31m duration \u001b[0m\u001b[1;31m}\u001b[0m\u001b[1;31m}\u001b[0m\u001b[34m minutes in length, during which \u001b[0m\u001b[1;31m{\u001b[0m\u001b[1;31m{\u001b[0m\u001b[31m nb_vols \u001b[0m\u001b[1;31m}\u001b[0m\u001b[1;31m}\u001b[0m\u001b[34m functional volumes were acquired.\u001b[0m\n",
       "\u001b[1;31m{\u001b[0m\u001b[1;31m{\u001b[0m\u001b[31m TaskDescription \u001b[0m\u001b[1;31m}\u001b[0m\u001b[1;31m}\u001b[0m\n",
       "\u001b[34mParticipants were specifically instructed to: \u001b[0m\u001b[1;31m{\u001b[0m\u001b[1;31m{\u001b[0m\u001b[31m Instructions \u001b[0m\u001b[1;31m}\u001b[0m\u001b[1;31m}\u001b[0m\n"
      ]
     },
     "metadata": {},
     "output_type": "display_data"
    },
    {
     "data": {
      "text/html": [
       "<pre style=\"white-space:pre;overflow-x:auto;line-height:normal;font-family:Menlo,'DejaVu Sans Mono',consolas,'Courier New',monospace\">\n",
       "<span style=\"font-weight: bold\">## DWI</span>\n",
       "</pre>\n"
      ],
      "text/plain": [
       "\n",
       "\u001b[1m## DWI\u001b[0m\n"
      ]
     },
     "metadata": {},
     "output_type": "display_data"
    },
    {
     "data": {
      "text/html": [
       "<pre style=\"white-space:pre;overflow-x:auto;line-height:normal;font-family:Menlo,'DejaVu Sans Mono',consolas,'Courier New',monospace\"><span style=\"color: #800000; text-decoration-color: #800000; font-weight: bold\">{{</span><span style=\"color: #800000; text-decoration-color: #800000\"> nb_runs </span><span style=\"color: #800000; text-decoration-color: #800000; font-weight: bold\">}}</span><span style=\"color: #000080; text-decoration-color: #000080\"> of </span><span style=\"color: #800000; text-decoration-color: #800000; font-weight: bold\">{{</span><span style=\"color: #800000; text-decoration-color: #800000\"> PulseSequenceType </span><span style=\"color: #800000; text-decoration-color: #800000; font-weight: bold\">}}</span><span style=\"color: #000080; text-decoration-color: #000080\"> </span><span style=\"color: #800000; text-decoration-color: #800000; font-weight: bold\">{{</span><span style=\"color: #800000; text-decoration-color: #800000\"> seqs </span><span style=\"color: #800000; text-decoration-color: #800000; font-weight: bold\">}}</span><span style=\"color: #000080; text-decoration-color: #000080\"> </span><span style=\"color: #800000; text-decoration-color: #800000; font-weight: bold\">{{</span><span style=\"color: #800000; text-decoration-color: #800000\"> variants </span><span style=\"color: #800000; text-decoration-color: #800000; font-weight: bold\">}}</span><span style=\"color: #000080; text-decoration-color: #000080\"> diffusion-weighted-imaging </span><span style=\"color: #000080; text-decoration-color: #000080; font-weight: bold\">(</span><span style=\"color: #800000; text-decoration-color: #800000; font-weight: bold\">{{</span><span style=\"color: #800000; text-decoration-color: #800000\"> scan_type </span><span style=\"color: #800000; text-decoration-color: #800000; font-weight: bold\">}}</span><span style=\"color: #000080; text-decoration-color: #000080; font-weight: bold\">)</span><span style=\"color: #000080; text-decoration-color: #000080\"> </span>\n",
       "<span style=\"color: #000080; text-decoration-color: #000080\">data were collected </span><span style=\"color: #000080; text-decoration-color: #000080; font-weight: bold\">(</span><span style=\"color: #800000; text-decoration-color: #800000; font-weight: bold\">{{</span><span style=\"color: #800000; text-decoration-color: #800000\"> nb_slices </span><span style=\"color: #800000; text-decoration-color: #800000; font-weight: bold\">}}</span><span style=\"color: #000080; text-decoration-color: #000080\"> slices; repetition time, </span><span style=\"color: #000080; text-decoration-color: #000080\">TR</span><span style=\"color: #000080; text-decoration-color: #000080\">= </span><span style=\"color: #800000; text-decoration-color: #800000; font-weight: bold\">{{</span><span style=\"color: #800000; text-decoration-color: #800000\"> tr </span><span style=\"color: #800000; text-decoration-color: #800000; font-weight: bold\">}}</span><span style=\"color: #000080; text-decoration-color: #000080\"> ms; flip angle, </span><span style=\"color: #000080; text-decoration-color: #000080\">FA</span><span style=\"color: #000080; text-decoration-color: #000080\">= </span><span style=\"color: #800000; text-decoration-color: #800000; font-weight: bold\">{{</span><span style=\"color: #800000; text-decoration-color: #800000\"> flip_angle </span><span style=\"color: #800000; text-decoration-color: #800000; font-weight: bold\">}}</span><span style=\"color: #000080; text-decoration-color: #000080\">°; </span>\n",
       "<span style=\"color: #000080; text-decoration-color: #000080\">echo time, </span><span style=\"color: #000080; text-decoration-color: #000080\">TE</span><span style=\"color: #000080; text-decoration-color: #000080\">= </span><span style=\"color: #800000; text-decoration-color: #800000; font-weight: bold\">{{</span><span style=\"color: #800000; text-decoration-color: #800000\"> echo_time </span><span style=\"color: #800000; text-decoration-color: #800000; font-weight: bold\">}}</span><span style=\"color: #000080; text-decoration-color: #000080\"> ms; field of view </span><span style=\"color: #000080; text-decoration-color: #000080\">FOV</span><span style=\"color: #000080; text-decoration-color: #000080\">= </span><span style=\"color: #800000; text-decoration-color: #800000; font-weight: bold\">{{</span><span style=\"color: #800000; text-decoration-color: #800000\"> fov </span><span style=\"color: #800000; text-decoration-color: #800000; font-weight: bold\">}}</span><span style=\"color: #000080; text-decoration-color: #000080\"> mm; matrix </span><span style=\"color: #000080; text-decoration-color: #000080\">size</span><span style=\"color: #000080; text-decoration-color: #000080\">= </span><span style=\"color: #800000; text-decoration-color: #800000; font-weight: bold\">{{</span><span style=\"color: #800000; text-decoration-color: #800000\"> matrix_size </span><span style=\"color: #800000; text-decoration-color: #800000; font-weight: bold\">}}</span><span style=\"color: #000080; text-decoration-color: #000080\">; voxel </span><span style=\"color: #000080; text-decoration-color: #000080\">size</span><span style=\"color: #000080; text-decoration-color: #000080\">= </span><span style=\"color: #800000; text-decoration-color: #800000; font-weight: bold\">{{</span><span style=\"color: #800000; text-decoration-color: #800000\"> </span>\n",
       "<span style=\"color: #800000; text-decoration-color: #800000\">voxel_size </span><span style=\"color: #800000; text-decoration-color: #800000; font-weight: bold\">}}</span><span style=\"color: #000080; text-decoration-color: #000080\"> mm; b-values of </span><span style=\"color: #800000; text-decoration-color: #800000; font-weight: bold\">{{</span><span style=\"color: #800000; text-decoration-color: #800000\"> bvals </span><span style=\"color: #800000; text-decoration-color: #800000; font-weight: bold\">}}</span><span style=\"color: #000080; text-decoration-color: #000080\"> acquired; </span><span style=\"color: #800000; text-decoration-color: #800000; font-weight: bold\">{{</span><span style=\"color: #800000; text-decoration-color: #800000\"> dmri_dir </span><span style=\"color: #800000; text-decoration-color: #800000; font-weight: bold\">}}</span><span style=\"color: #000080; text-decoration-color: #000080\"> diffusion directions; </span><span style=\"color: #800000; text-decoration-color: #800000; font-weight: bold\">{{</span><span style=\"color: #800000; text-decoration-color: #800000\"> multiband_factor </span><span style=\"color: #800000; text-decoration-color: #800000; font-weight: bold\">}}</span><span style=\"color: #000080; text-decoration-color: #000080\"> </span><span style=\"color: #000080; text-decoration-color: #000080; font-weight: bold\">)</span><span style=\"color: #000080; text-decoration-color: #000080\">.</span>\n",
       "\n",
       "</pre>\n"
      ],
      "text/plain": [
       "\u001b[1;31m{\u001b[0m\u001b[1;31m{\u001b[0m\u001b[31m nb_runs \u001b[0m\u001b[1;31m}\u001b[0m\u001b[1;31m}\u001b[0m\u001b[34m of \u001b[0m\u001b[1;31m{\u001b[0m\u001b[1;31m{\u001b[0m\u001b[31m PulseSequenceType \u001b[0m\u001b[1;31m}\u001b[0m\u001b[1;31m}\u001b[0m\u001b[34m \u001b[0m\u001b[1;31m{\u001b[0m\u001b[1;31m{\u001b[0m\u001b[31m seqs \u001b[0m\u001b[1;31m}\u001b[0m\u001b[1;31m}\u001b[0m\u001b[34m \u001b[0m\u001b[1;31m{\u001b[0m\u001b[1;31m{\u001b[0m\u001b[31m variants \u001b[0m\u001b[1;31m}\u001b[0m\u001b[1;31m}\u001b[0m\u001b[34m diffusion-weighted-imaging \u001b[0m\u001b[1;34m(\u001b[0m\u001b[1;31m{\u001b[0m\u001b[1;31m{\u001b[0m\u001b[31m scan_type \u001b[0m\u001b[1;31m}\u001b[0m\u001b[1;31m}\u001b[0m\u001b[1;34m)\u001b[0m\u001b[34m \u001b[0m\n",
       "\u001b[34mdata were collected \u001b[0m\u001b[1;34m(\u001b[0m\u001b[1;31m{\u001b[0m\u001b[1;31m{\u001b[0m\u001b[31m nb_slices \u001b[0m\u001b[1;31m}\u001b[0m\u001b[1;31m}\u001b[0m\u001b[34m slices; repetition time, \u001b[0m\u001b[34mTR\u001b[0m\u001b[34m= \u001b[0m\u001b[1;31m{\u001b[0m\u001b[1;31m{\u001b[0m\u001b[31m tr \u001b[0m\u001b[1;31m}\u001b[0m\u001b[1;31m}\u001b[0m\u001b[34m ms; flip angle, \u001b[0m\u001b[34mFA\u001b[0m\u001b[34m= \u001b[0m\u001b[1;31m{\u001b[0m\u001b[1;31m{\u001b[0m\u001b[31m flip_angle \u001b[0m\u001b[1;31m}\u001b[0m\u001b[1;31m}\u001b[0m\u001b[34m°; \u001b[0m\n",
       "\u001b[34mecho time, \u001b[0m\u001b[34mTE\u001b[0m\u001b[34m= \u001b[0m\u001b[1;31m{\u001b[0m\u001b[1;31m{\u001b[0m\u001b[31m echo_time \u001b[0m\u001b[1;31m}\u001b[0m\u001b[1;31m}\u001b[0m\u001b[34m ms; field of view \u001b[0m\u001b[34mFOV\u001b[0m\u001b[34m= \u001b[0m\u001b[1;31m{\u001b[0m\u001b[1;31m{\u001b[0m\u001b[31m fov \u001b[0m\u001b[1;31m}\u001b[0m\u001b[1;31m}\u001b[0m\u001b[34m mm; matrix \u001b[0m\u001b[34msize\u001b[0m\u001b[34m= \u001b[0m\u001b[1;31m{\u001b[0m\u001b[1;31m{\u001b[0m\u001b[31m matrix_size \u001b[0m\u001b[1;31m}\u001b[0m\u001b[1;31m}\u001b[0m\u001b[34m; voxel \u001b[0m\u001b[34msize\u001b[0m\u001b[34m= \u001b[0m\u001b[1;31m{\u001b[0m\u001b[1;31m{\u001b[0m\u001b[31m \u001b[0m\n",
       "\u001b[31mvoxel_size \u001b[0m\u001b[1;31m}\u001b[0m\u001b[1;31m}\u001b[0m\u001b[34m mm; b-values of \u001b[0m\u001b[1;31m{\u001b[0m\u001b[1;31m{\u001b[0m\u001b[31m bvals \u001b[0m\u001b[1;31m}\u001b[0m\u001b[1;31m}\u001b[0m\u001b[34m acquired; \u001b[0m\u001b[1;31m{\u001b[0m\u001b[1;31m{\u001b[0m\u001b[31m dmri_dir \u001b[0m\u001b[1;31m}\u001b[0m\u001b[1;31m}\u001b[0m\u001b[34m diffusion directions; \u001b[0m\u001b[1;31m{\u001b[0m\u001b[1;31m{\u001b[0m\u001b[31m multiband_factor \u001b[0m\u001b[1;31m}\u001b[0m\u001b[1;31m}\u001b[0m\u001b[34m \u001b[0m\u001b[1;34m)\u001b[0m\u001b[34m.\u001b[0m\n",
       "\n"
      ]
     },
     "metadata": {},
     "output_type": "display_data"
    },
    {
     "data": {
      "text/html": [
       "<pre style=\"white-space:pre;overflow-x:auto;line-height:normal;font-family:Menlo,'DejaVu Sans Mono',consolas,'Courier New',monospace\">\n",
       "<span style=\"font-weight: bold\">## PERF</span>\n",
       "</pre>\n"
      ],
      "text/plain": [
       "\n",
       "\u001b[1m## PERF\u001b[0m\n"
      ]
     },
     "metadata": {},
     "output_type": "display_data"
    },
    {
     "data": {
      "text/html": [
       "<pre style=\"white-space:pre;overflow-x:auto;line-height:normal;font-family:Menlo,'DejaVu Sans Mono',consolas,'Courier New',monospace\">\n",
       "<span style=\"font-weight: bold\"># PET</span>\n",
       "</pre>\n"
      ],
      "text/plain": [
       "\n",
       "\u001b[1m# PET\u001b[0m\n"
      ]
     },
     "metadata": {},
     "output_type": "display_data"
    },
    {
     "data": {
      "text/html": [
       "<pre style=\"white-space:pre;overflow-x:auto;line-height:normal;font-family:Menlo,'DejaVu Sans Mono',consolas,'Courier New',monospace\">\n",
       "<span style=\"font-weight: bold\">## PET</span>\n",
       "</pre>\n"
      ],
      "text/plain": [
       "\n",
       "\u001b[1m## PET\u001b[0m\n"
      ]
     },
     "metadata": {},
     "output_type": "display_data"
    },
    {
     "data": {
      "text/html": [
       "<pre style=\"white-space:pre;overflow-x:auto;line-height:normal;font-family:Menlo,'DejaVu Sans Mono',consolas,'Courier New',monospace\">\n",
       "<span style=\"font-weight: bold\"># MEEG</span>\n",
       "</pre>\n"
      ],
      "text/plain": [
       "\n",
       "\u001b[1m# MEEG\u001b[0m\n"
      ]
     },
     "metadata": {},
     "output_type": "display_data"
    },
    {
     "data": {
      "text/html": [
       "<pre style=\"white-space:pre;overflow-x:auto;line-height:normal;font-family:Menlo,'DejaVu Sans Mono',consolas,'Courier New',monospace\">\n",
       "<span style=\"font-weight: bold\">## EEG</span>\n",
       "</pre>\n"
      ],
      "text/plain": [
       "\n",
       "\u001b[1m## EEG\u001b[0m\n"
      ]
     },
     "metadata": {},
     "output_type": "display_data"
    },
    {
     "data": {
      "text/html": [
       "<pre style=\"white-space:pre;overflow-x:auto;line-height:normal;font-family:Menlo,'DejaVu Sans Mono',consolas,'Courier New',monospace\">\n",
       "<span style=\"font-weight: bold\">## MEG</span>\n",
       "</pre>\n"
      ],
      "text/plain": [
       "\n",
       "\u001b[1m## MEG\u001b[0m\n"
      ]
     },
     "metadata": {},
     "output_type": "display_data"
    },
    {
     "data": {
      "text/html": [
       "<pre style=\"white-space:pre;overflow-x:auto;line-height:normal;font-family:Menlo,'DejaVu Sans Mono',consolas,'Courier New',monospace\"><span style=\"color: #000080; text-decoration-color: #000080\">Recordings were done using a </span><span style=\"color: #800000; text-decoration-color: #800000; font-weight: bold\">{{</span><span style=\"color: #800000; text-decoration-color: #800000\"> model_name </span><span style=\"color: #800000; text-decoration-color: #800000; font-weight: bold\">}}</span><span style=\"color: #000080; text-decoration-color: #000080\"> system from </span><span style=\"color: #800000; text-decoration-color: #800000; font-weight: bold\">{{</span><span style=\"color: #800000; text-decoration-color: #800000\"> manufacturer </span><span style=\"color: #800000; text-decoration-color: #800000; font-weight: bold\">}}</span><span style=\"color: #000080; text-decoration-color: #000080\"> with serial number </span><span style=\"color: #800000; text-decoration-color: #800000; font-weight: bold\">{{</span><span style=\"color: #800000; text-decoration-color: #800000\"> </span>\n",
       "<span style=\"color: #800000; text-decoration-color: #800000\">DeviceSerialNumber </span><span style=\"color: #800000; text-decoration-color: #800000; font-weight: bold\">}}</span><span style=\"color: #000080; text-decoration-color: #000080\">.</span>\n",
       "<span style=\"color: #000080; text-decoration-color: #000080\">The software version was </span><span style=\"color: #800000; text-decoration-color: #800000; font-weight: bold\">{{</span><span style=\"color: #800000; text-decoration-color: #800000\"> SoftwareVersions </span><span style=\"color: #800000; text-decoration-color: #800000; font-weight: bold\">}}</span><span style=\"color: #000080; text-decoration-color: #000080\">.</span>\n",
       "\n",
       "<span style=\"color: #000080; text-decoration-color: #000080\">Power line and sampling frequencies were </span><span style=\"color: #000080; text-decoration-color: #000080; font-weight: bold\">50</span><span style=\"color: #000080; text-decoration-color: #000080\"> Hz and </span><span style=\"color: #000080; text-decoration-color: #000080; font-weight: bold\">1100</span><span style=\"color: #000080; text-decoration-color: #000080\"> Hz, respectively.</span>\n",
       "\n",
       "<span style=\"color: #000080; text-decoration-color: #000080\">Data was collected with </span><span style=\"color: #800000; text-decoration-color: #800000; font-weight: bold\">{{</span><span style=\"color: #800000; text-decoration-color: #800000\"> ChannelCount </span><span style=\"color: #800000; text-decoration-color: #800000; font-weight: bold\">}}</span><span style=\"color: #000080; text-decoration-color: #000080\"> meg channels, </span><span style=\"color: #000080; text-decoration-color: #000080; font-weight: bold\">2</span><span style=\"color: #000080; text-decoration-color: #000080\"> EOG channels,</span>\n",
       "<span style=\"color: #000080; text-decoration-color: #000080; font-weight: bold\">1</span><span style=\"color: #000080; text-decoration-color: #000080\"> ECG channels and </span><span style=\"color: #000080; text-decoration-color: #000080; font-weight: bold\">0</span><span style=\"color: #000080; text-decoration-color: #000080\"> EMG channels recorded simultaneously.</span>\n",
       "\n",
       "<span style=\"color: #000080; text-decoration-color: #000080\">Subjects viewed stimuli on a screen during six, </span><span style=\"color: #000080; text-decoration-color: #000080; font-weight: bold\">7.5</span><span style=\"color: #000080; text-decoration-color: #000080\"> minute runs. The stimuli were photographs of either a face or a</span>\n",
       "<span style=\"color: #000080; text-decoration-color: #000080\">scrambled face, and appeared for a random duration between </span><span style=\"color: #000080; text-decoration-color: #000080; font-weight: bold\">800</span><span style=\"color: #000080; text-decoration-color: #000080\"> and </span><span style=\"color: #000080; text-decoration-color: #000080; font-weight: bold\">1</span><span style=\"color: #000080; text-decoration-color: #000080\">,</span><span style=\"color: #000080; text-decoration-color: #000080; font-weight: bold\">000</span><span style=\"color: #000080; text-decoration-color: #000080\"> ms. Subjects were instructed to fixate </span>\n",
       "<span style=\"color: #000080; text-decoration-color: #000080\">centrally throughout the experiment. To ensure attention to each stimulus, participants were asked to press one of </span>\n",
       "<span style=\"color: #000080; text-decoration-color: #000080\">two keys with either their left or right index finger </span><span style=\"color: #000080; text-decoration-color: #000080; font-weight: bold\">(</span><span style=\"color: #000080; text-decoration-color: #000080\">assignment counter-balanced across participants</span><span style=\"color: #000080; text-decoration-color: #000080; font-weight: bold\">)</span><span style=\"color: #000080; text-decoration-color: #000080\">. Their </span>\n",
       "<span style=\"color: #000080; text-decoration-color: #000080\">key-press was based on how symmetric they regarded each image: pressing one or the other key depending whether they</span>\n",
       "<span style=\"color: #000080; text-decoration-color: #000080\">thought the image was </span><span style=\"color: #000080; text-decoration-color: #000080\">'more'</span><span style=\"color: #000080; text-decoration-color: #000080\"> or </span><span style=\"color: #000080; text-decoration-color: #000080\">'less symmetric'</span><span style=\"color: #000080; text-decoration-color: #000080\"> than average. See publication for more detailed information.</span>\n",
       "<span style=\"color: #000080; text-decoration-color: #000080\">Participants were specifically instructed to: </span><span style=\"color: #800000; text-decoration-color: #800000; font-weight: bold\">{{</span><span style=\"color: #800000; text-decoration-color: #800000\"> Instructions </span><span style=\"color: #800000; text-decoration-color: #800000; font-weight: bold\">}}</span>\n",
       "</pre>\n"
      ],
      "text/plain": [
       "\u001b[34mRecordings were done using a \u001b[0m\u001b[1;31m{\u001b[0m\u001b[1;31m{\u001b[0m\u001b[31m model_name \u001b[0m\u001b[1;31m}\u001b[0m\u001b[1;31m}\u001b[0m\u001b[34m system from \u001b[0m\u001b[1;31m{\u001b[0m\u001b[1;31m{\u001b[0m\u001b[31m manufacturer \u001b[0m\u001b[1;31m}\u001b[0m\u001b[1;31m}\u001b[0m\u001b[34m with serial number \u001b[0m\u001b[1;31m{\u001b[0m\u001b[1;31m{\u001b[0m\u001b[31m \u001b[0m\n",
       "\u001b[31mDeviceSerialNumber \u001b[0m\u001b[1;31m}\u001b[0m\u001b[1;31m}\u001b[0m\u001b[34m.\u001b[0m\n",
       "\u001b[34mThe software version was \u001b[0m\u001b[1;31m{\u001b[0m\u001b[1;31m{\u001b[0m\u001b[31m SoftwareVersions \u001b[0m\u001b[1;31m}\u001b[0m\u001b[1;31m}\u001b[0m\u001b[34m.\u001b[0m\n",
       "\n",
       "\u001b[34mPower line and sampling frequencies were \u001b[0m\u001b[1;34m50\u001b[0m\u001b[34m Hz and \u001b[0m\u001b[1;34m1100\u001b[0m\u001b[34m Hz, respectively.\u001b[0m\n",
       "\n",
       "\u001b[34mData was collected with \u001b[0m\u001b[1;31m{\u001b[0m\u001b[1;31m{\u001b[0m\u001b[31m ChannelCount \u001b[0m\u001b[1;31m}\u001b[0m\u001b[1;31m}\u001b[0m\u001b[34m meg channels, \u001b[0m\u001b[1;34m2\u001b[0m\u001b[34m EOG channels,\u001b[0m\n",
       "\u001b[1;34m1\u001b[0m\u001b[34m ECG channels and \u001b[0m\u001b[1;34m0\u001b[0m\u001b[34m EMG channels recorded simultaneously.\u001b[0m\n",
       "\n",
       "\u001b[34mSubjects viewed stimuli on a screen during six, \u001b[0m\u001b[1;34m7.5\u001b[0m\u001b[34m minute runs. The stimuli were photographs of either a face or a\u001b[0m\n",
       "\u001b[34mscrambled face, and appeared for a random duration between \u001b[0m\u001b[1;34m800\u001b[0m\u001b[34m and \u001b[0m\u001b[1;34m1\u001b[0m\u001b[34m,\u001b[0m\u001b[1;34m000\u001b[0m\u001b[34m ms. Subjects were instructed to fixate \u001b[0m\n",
       "\u001b[34mcentrally throughout the experiment. To ensure attention to each stimulus, participants were asked to press one of \u001b[0m\n",
       "\u001b[34mtwo keys with either their left or right index finger \u001b[0m\u001b[1;34m(\u001b[0m\u001b[34massignment counter-balanced across participants\u001b[0m\u001b[1;34m)\u001b[0m\u001b[34m. Their \u001b[0m\n",
       "\u001b[34mkey-press was based on how symmetric they regarded each image: pressing one or the other key depending whether they\u001b[0m\n",
       "\u001b[34mthought the image was \u001b[0m\u001b[34m'more'\u001b[0m\u001b[34m or \u001b[0m\u001b[34m'less symmetric'\u001b[0m\u001b[34m than average. See publication for more detailed information.\u001b[0m\n",
       "\u001b[34mParticipants were specifically instructed to: \u001b[0m\u001b[1;31m{\u001b[0m\u001b[1;31m{\u001b[0m\u001b[31m Instructions \u001b[0m\u001b[1;31m}\u001b[0m\u001b[1;31m}\u001b[0m\n"
      ]
     },
     "metadata": {},
     "output_type": "display_data"
    }
   ],
   "source": [
    "# Toggling \"keep\" to True will render the empty variables in RED\n",
    "# Only work with the version of chevron from github and not pypi\n",
    "keep = True\n",
    "\n",
    "# bids examples dataset to work with\n",
    "# see in  \"demos/data/bids-examples\"\n",
    "dataset = \"ds000117\"\n",
    "\n",
    "render_method_section_bids_dataset(dataset=dataset, keep=keep)"
   ]
  }
 ],
 "metadata": {
  "kernelspec": {
   "display_name": "env",
   "language": "python",
   "name": "python3"
  },
  "language_info": {
   "codemirror_mode": {
    "name": "ipython",
    "version": 3
   },
   "file_extension": ".py",
   "mimetype": "text/x-python",
   "name": "python",
   "nbconvert_exporter": "python",
   "pygments_lexer": "ipython3",
   "version": "3.11.3"
  }
 },
 "nbformat": 4,
 "nbformat_minor": 2
}
