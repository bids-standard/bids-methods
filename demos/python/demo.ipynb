{
 "cells": [
  {
   "cell_type": "markdown",
   "metadata": {},
   "source": [
    "Script to view what the templates would look like after rendering."
   ]
  },
  {
   "cell_type": "code",
   "execution_count": 10,
   "metadata": {},
   "outputs": [],
   "source": [
    "from pathlib import Path\n",
    "\n",
    "import chevron\n",
    "from rich import print\n",
    "\n",
    "from bids import BIDSLayout"
   ]
  },
  {
   "cell_type": "code",
   "execution_count": 11,
   "metadata": {},
   "outputs": [],
   "source": [
    "def root_dir() -> Path:\n",
    "    return Path().absolute().parents[1]\n",
    "\n",
    "\n",
    "def highlight_missing_tags(text: str) -> str:\n",
    "    \"\"\"Highlights missing info in red.\"\"\"\n",
    "    text = text.replace(\"{{\", \"[red]{{\")\n",
    "    text = text.replace(\"}}\", \"}}[/red]\")\n",
    "    return text\n",
    "\n",
    "\n",
    "def print_to_screen(layout, template_name, suffix, keep) -> None:\n",
    "    \"\"\"Get files for a certain suffix and render their method section.\"\"\"\n",
    "    files = layout.get(suffix=suffix)\n",
    "\n",
    "    if len(files) < 1:\n",
    "        return\n",
    "\n",
    "    metadata = files[0].get_metadata()\n",
    "    metadata[\"suffix\"] = suffix\n",
    "\n",
    "    render_template(template_name, metadata, keep)\n",
    "\n",
    "\n",
    "def render_template(template_name, metadata, keep) -> None:\n",
    "    \"\"\"Render a specific template\"\"\"\n",
    "    templates_dir = root_dir() / \"templates\"\n",
    "\n",
    "    partials_path = root_dir() / \"partials\"\n",
    "\n",
    "    with open(templates_dir / template_name, \"r\") as template:\n",
    "        args = {\n",
    "            \"template\": template,\n",
    "            \"data\": metadata,\n",
    "            \"partials_path\": partials_path,\n",
    "            \"keep\": keep,\n",
    "        }\n",
    "\n",
    "        text = chevron.render(**args)\n",
    "\n",
    "        print(highlight_missing_tags(text))\n",
    "\n",
    "def render_method_section_bids_dataset(dataset, keep):\n",
    "    data_dir = root_dir() / \"demos\" / \"data\" / \"bids-examples\"\n",
    "\n",
    "    data_path = data_dir / dataset\n",
    "\n",
    "    layout = BIDSLayout(data_path)\n",
    "\n",
    "    # %%\n",
    "    print(f\"\\n[bold]# MRI[/bold]\")\n",
    "\n",
    "    files = layout.get(suffix=\"T1w\")\n",
    "    if len(files) > 1:\n",
    "        metadata = files[0].get_metadata()\n",
    "        render_template(\"institution.mustache\", metadata, keep)\n",
    "        render_template(\"mri_scanner_info.mustache\", metadata, keep)\n",
    "\n",
    "    suffix_template = {\n",
    "        \"T1w\": \"anat\",\n",
    "        \"bold\": \"func\",\n",
    "        \"dwi\": \"dwi\",\n",
    "        \"perf\": \"perf\",\n",
    "    }\n",
    "\n",
    "    for suffix, template in suffix_template.items():\n",
    "        print(f\"\\n[bold]## {suffix.upper()}[/bold]\")\n",
    "        print_to_screen(layout, f\"{template}.mustache\", suffix, keep)\n",
    "\n",
    "    # %%\n",
    "    print(f\"\\n[bold]# PET[/bold]\")\n",
    "\n",
    "    print(f\"\\n[bold]## {'pet'.upper()}[/bold]\")\n",
    "    print_to_screen(layout, \"pet.mustache\", suffix, keep)\n",
    "\n",
    "    # %%\n",
    "    print(f\"\\n[bold]# MEEG[/bold]\")\n",
    "\n",
    "    suffix_template = {\n",
    "        \"eeg\": \"meeg\",\n",
    "        \"meg\": \"meeg\",\n",
    "    }\n",
    "\n",
    "    for suffix, template in suffix_template.items():\n",
    "        print(f\"\\n[bold]## {suffix.upper()}[/bold]\")\n",
    "        print_to_screen(layout, f\"{template}.mustache\", suffix, keep)"
   ]
  },
  {
   "cell_type": "code",
   "execution_count": 12,
   "metadata": {},
   "outputs": [
    {
     "data": {
      "text/html": [
       "<pre style=\"white-space:pre;overflow-x:auto;line-height:normal;font-family:Menlo,'DejaVu Sans Mono',consolas,'Courier New',monospace\">\n",
       "<span style=\"font-weight: bold\"># MRI</span>\n",
       "</pre>\n"
      ],
      "text/plain": [
       "\n",
       "\u001b[1m# MRI\u001b[0m\n"
      ]
     },
     "metadata": {},
     "output_type": "display_data"
    },
    {
     "data": {
      "text/html": [
       "<pre style=\"white-space:pre;overflow-x:auto;line-height:normal;font-family:Menlo,'DejaVu Sans Mono',consolas,'Courier New',monospace\">The data acquisition was performed in the <span style=\"color: #800000; text-decoration-color: #800000; font-weight: bold\">{{</span><span style=\"color: #800000; text-decoration-color: #800000\"> InstitutionName </span><span style=\"color: #800000; text-decoration-color: #800000; font-weight: bold\">}}</span>, <span style=\"color: #800000; text-decoration-color: #800000; font-weight: bold\">{{</span><span style=\"color: #800000; text-decoration-color: #800000\"> InstitutionalDepartmentName </span><span style=\"color: #800000; text-decoration-color: #800000; font-weight: bold\">}}</span>, <span style=\"color: #800000; text-decoration-color: #800000; font-weight: bold\">{{</span><span style=\"color: #800000; text-decoration-color: #800000\"> </span>\n",
       "<span style=\"color: #800000; text-decoration-color: #800000\">InstitutionAddress </span><span style=\"color: #800000; text-decoration-color: #800000; font-weight: bold\">}}</span>.\n",
       "\n",
       "</pre>\n"
      ],
      "text/plain": [
       "The data acquisition was performed in the \u001b[1;31m{\u001b[0m\u001b[1;31m{\u001b[0m\u001b[31m InstitutionName \u001b[0m\u001b[1;31m}\u001b[0m\u001b[1;31m}\u001b[0m, \u001b[1;31m{\u001b[0m\u001b[1;31m{\u001b[0m\u001b[31m InstitutionalDepartmentName \u001b[0m\u001b[1;31m}\u001b[0m\u001b[1;31m}\u001b[0m, \u001b[1;31m{\u001b[0m\u001b[1;31m{\u001b[0m\u001b[31m \u001b[0m\n",
       "\u001b[31mInstitutionAddress \u001b[0m\u001b[1;31m}\u001b[0m\u001b[1;31m}\u001b[0m.\n",
       "\n"
      ]
     },
     "metadata": {},
     "output_type": "display_data"
    },
    {
     "data": {
      "text/html": [
       "<pre style=\"white-space:pre;overflow-x:auto;line-height:normal;font-family:Menlo,'DejaVu Sans Mono',consolas,'Courier New',monospace\">MRI data were acquired on a <span style=\"color: #800000; text-decoration-color: #800000; font-weight: bold\">{{</span><span style=\"color: #800000; text-decoration-color: #800000\"> MagneticFieldStrength </span><span style=\"color: #800000; text-decoration-color: #800000; font-weight: bold\">}}</span> Tesla MRI scanner using a <span style=\"color: #800000; text-decoration-color: #800000; font-weight: bold\">{{</span><span style=\"color: #800000; text-decoration-color: #800000\"> ManufacturersModelName </span><span style=\"color: #800000; text-decoration-color: #800000; font-weight: bold\">}}</span> \n",
       "system from <span style=\"color: #800000; text-decoration-color: #800000; font-weight: bold\">{{</span><span style=\"color: #800000; text-decoration-color: #800000\"> Manufacturer </span><span style=\"color: #800000; text-decoration-color: #800000; font-weight: bold\">}}</span> with serial number <span style=\"color: #800000; text-decoration-color: #800000; font-weight: bold\">{{</span><span style=\"color: #800000; text-decoration-color: #800000\"> DeviceSerialNumber </span><span style=\"color: #800000; text-decoration-color: #800000; font-weight: bold\">}}</span>.\n",
       "The software version was <span style=\"color: #800000; text-decoration-color: #800000; font-weight: bold\">{{</span><span style=\"color: #800000; text-decoration-color: #800000\"> SoftwareVersions </span><span style=\"color: #800000; text-decoration-color: #800000; font-weight: bold\">}}</span>.\n",
       "</pre>\n"
      ],
      "text/plain": [
       "MRI data were acquired on a \u001b[1;31m{\u001b[0m\u001b[1;31m{\u001b[0m\u001b[31m MagneticFieldStrength \u001b[0m\u001b[1;31m}\u001b[0m\u001b[1;31m}\u001b[0m Tesla MRI scanner using a \u001b[1;31m{\u001b[0m\u001b[1;31m{\u001b[0m\u001b[31m ManufacturersModelName \u001b[0m\u001b[1;31m}\u001b[0m\u001b[1;31m}\u001b[0m \n",
       "system from \u001b[1;31m{\u001b[0m\u001b[1;31m{\u001b[0m\u001b[31m Manufacturer \u001b[0m\u001b[1;31m}\u001b[0m\u001b[1;31m}\u001b[0m with serial number \u001b[1;31m{\u001b[0m\u001b[1;31m{\u001b[0m\u001b[31m DeviceSerialNumber \u001b[0m\u001b[1;31m}\u001b[0m\u001b[1;31m}\u001b[0m.\n",
       "The software version was \u001b[1;31m{\u001b[0m\u001b[1;31m{\u001b[0m\u001b[31m SoftwareVersions \u001b[0m\u001b[1;31m}\u001b[0m\u001b[1;31m}\u001b[0m.\n"
      ]
     },
     "metadata": {},
     "output_type": "display_data"
    },
    {
     "data": {
      "text/html": [
       "<pre style=\"white-space:pre;overflow-x:auto;line-height:normal;font-family:Menlo,'DejaVu Sans Mono',consolas,'Courier New',monospace\">\n",
       "<span style=\"font-weight: bold\">## T1W</span>\n",
       "</pre>\n"
      ],
      "text/plain": [
       "\n",
       "\u001b[1m## T1W\u001b[0m\n"
      ]
     },
     "metadata": {},
     "output_type": "display_data"
    },
    {
     "data": {
      "text/html": [
       "<pre style=\"white-space:pre;overflow-x:auto;line-height:normal;font-family:Menlo,'DejaVu Sans Mono',consolas,'Courier New',monospace\"><span style=\"color: #800000; text-decoration-color: #800000; font-weight: bold\">{{</span><span style=\"color: #800000; text-decoration-color: #800000\"> nb_runs </span><span style=\"color: #800000; text-decoration-color: #800000; font-weight: bold\">}}</span> of <span style=\"color: #800000; text-decoration-color: #800000; font-weight: bold\">{{</span><span style=\"color: #800000; text-decoration-color: #800000\"> scan_type </span><span style=\"color: #800000; text-decoration-color: #800000; font-weight: bold\">}}</span> <span style=\"color: #800000; text-decoration-color: #800000; font-weight: bold\">{{</span><span style=\"color: #800000; text-decoration-color: #800000\"> PulseSequenceType </span><span style=\"color: #800000; text-decoration-color: #800000; font-weight: bold\">}}</span> <span style=\"color: #800000; text-decoration-color: #800000; font-weight: bold\">{{</span><span style=\"color: #800000; text-decoration-color: #800000\"> seqs </span><span style=\"color: #800000; text-decoration-color: #800000; font-weight: bold\">}}</span> <span style=\"color: #800000; text-decoration-color: #800000; font-weight: bold\">{{</span><span style=\"color: #800000; text-decoration-color: #800000\"> variants </span><span style=\"color: #800000; text-decoration-color: #800000; font-weight: bold\">}}</span> <span style=\"color: #800000; text-decoration-color: #800000; font-weight: bold\">{{</span><span style=\"color: #800000; text-decoration-color: #800000\"> multi_echo </span><span style=\"color: #800000; text-decoration-color: #800000; font-weight: bold\">}}</span> structural MRI \n",
       "data were collected <span style=\"font-weight: bold\">(</span>repetition time, <span style=\"color: #808000; text-decoration-color: #808000\">TR</span>= <span style=\"color: #800000; text-decoration-color: #800000; font-weight: bold\">{{</span><span style=\"color: #800000; text-decoration-color: #800000\"> tr </span><span style=\"color: #800000; text-decoration-color: #800000; font-weight: bold\">}}</span> ms; flip angle, <span style=\"color: #808000; text-decoration-color: #808000\">FA</span>= <span style=\"color: #800000; text-decoration-color: #800000; font-weight: bold\">{{</span><span style=\"color: #800000; text-decoration-color: #800000\"> FlipAngle </span><span style=\"color: #800000; text-decoration-color: #800000; font-weight: bold\">}}</span>°; echo time, <span style=\"color: #808000; text-decoration-color: #808000\">TE</span>= <span style=\"color: #800000; text-decoration-color: #800000; font-weight: bold\">{{</span><span style=\"color: #800000; text-decoration-color: #800000\"> </span>\n",
       "<span style=\"color: #800000; text-decoration-color: #800000\">echo_time </span><span style=\"color: #800000; text-decoration-color: #800000; font-weight: bold\">}}</span> ms; field of view <span style=\"color: #808000; text-decoration-color: #808000\">FOV</span>= <span style=\"color: #800000; text-decoration-color: #800000; font-weight: bold\">{{</span><span style=\"color: #800000; text-decoration-color: #800000\"> fov </span><span style=\"color: #800000; text-decoration-color: #800000; font-weight: bold\">}}</span> mm; matrix <span style=\"color: #808000; text-decoration-color: #808000\">size</span>= <span style=\"color: #800000; text-decoration-color: #800000; font-weight: bold\">{{</span><span style=\"color: #800000; text-decoration-color: #800000\"> matrix_size </span><span style=\"color: #800000; text-decoration-color: #800000; font-weight: bold\">}}</span>; voxel <span style=\"color: #808000; text-decoration-color: #808000\">size</span>= <span style=\"color: #800000; text-decoration-color: #800000; font-weight: bold\">{{</span><span style=\"color: #800000; text-decoration-color: #800000\"> voxel_size </span><span style=\"color: #800000; text-decoration-color: #800000; font-weight: bold\">}}</span> mm; \n",
       "<span style=\"color: #800000; text-decoration-color: #800000; font-weight: bold\">{{</span><span style=\"color: #800000; text-decoration-color: #800000\"> nb_slices </span><span style=\"color: #800000; text-decoration-color: #800000; font-weight: bold\">}}</span> slices<span style=\"font-weight: bold\">)</span>.\n",
       "\n",
       "</pre>\n"
      ],
      "text/plain": [
       "\u001b[1;31m{\u001b[0m\u001b[1;31m{\u001b[0m\u001b[31m nb_runs \u001b[0m\u001b[1;31m}\u001b[0m\u001b[1;31m}\u001b[0m of \u001b[1;31m{\u001b[0m\u001b[1;31m{\u001b[0m\u001b[31m scan_type \u001b[0m\u001b[1;31m}\u001b[0m\u001b[1;31m}\u001b[0m \u001b[1;31m{\u001b[0m\u001b[1;31m{\u001b[0m\u001b[31m PulseSequenceType \u001b[0m\u001b[1;31m}\u001b[0m\u001b[1;31m}\u001b[0m \u001b[1;31m{\u001b[0m\u001b[1;31m{\u001b[0m\u001b[31m seqs \u001b[0m\u001b[1;31m}\u001b[0m\u001b[1;31m}\u001b[0m \u001b[1;31m{\u001b[0m\u001b[1;31m{\u001b[0m\u001b[31m variants \u001b[0m\u001b[1;31m}\u001b[0m\u001b[1;31m}\u001b[0m \u001b[1;31m{\u001b[0m\u001b[1;31m{\u001b[0m\u001b[31m multi_echo \u001b[0m\u001b[1;31m}\u001b[0m\u001b[1;31m}\u001b[0m structural MRI \n",
       "data were collected \u001b[1m(\u001b[0mrepetition time, \u001b[33mTR\u001b[0m= \u001b[1;31m{\u001b[0m\u001b[1;31m{\u001b[0m\u001b[31m tr \u001b[0m\u001b[1;31m}\u001b[0m\u001b[1;31m}\u001b[0m ms; flip angle, \u001b[33mFA\u001b[0m= \u001b[1;31m{\u001b[0m\u001b[1;31m{\u001b[0m\u001b[31m FlipAngle \u001b[0m\u001b[1;31m}\u001b[0m\u001b[1;31m}\u001b[0m°; echo time, \u001b[33mTE\u001b[0m= \u001b[1;31m{\u001b[0m\u001b[1;31m{\u001b[0m\u001b[31m \u001b[0m\n",
       "\u001b[31mecho_time \u001b[0m\u001b[1;31m}\u001b[0m\u001b[1;31m}\u001b[0m ms; field of view \u001b[33mFOV\u001b[0m= \u001b[1;31m{\u001b[0m\u001b[1;31m{\u001b[0m\u001b[31m fov \u001b[0m\u001b[1;31m}\u001b[0m\u001b[1;31m}\u001b[0m mm; matrix \u001b[33msize\u001b[0m= \u001b[1;31m{\u001b[0m\u001b[1;31m{\u001b[0m\u001b[31m matrix_size \u001b[0m\u001b[1;31m}\u001b[0m\u001b[1;31m}\u001b[0m; voxel \u001b[33msize\u001b[0m= \u001b[1;31m{\u001b[0m\u001b[1;31m{\u001b[0m\u001b[31m voxel_size \u001b[0m\u001b[1;31m}\u001b[0m\u001b[1;31m}\u001b[0m mm; \n",
       "\u001b[1;31m{\u001b[0m\u001b[1;31m{\u001b[0m\u001b[31m nb_slices \u001b[0m\u001b[1;31m}\u001b[0m\u001b[1;31m}\u001b[0m slices\u001b[1m)\u001b[0m.\n",
       "\n"
      ]
     },
     "metadata": {},
     "output_type": "display_data"
    },
    {
     "data": {
      "text/html": [
       "<pre style=\"white-space:pre;overflow-x:auto;line-height:normal;font-family:Menlo,'DejaVu Sans Mono',consolas,'Courier New',monospace\">\n",
       "<span style=\"font-weight: bold\">## BOLD</span>\n",
       "</pre>\n"
      ],
      "text/plain": [
       "\n",
       "\u001b[1m## BOLD\u001b[0m\n"
      ]
     },
     "metadata": {},
     "output_type": "display_data"
    },
    {
     "data": {
      "text/html": [
       "<pre style=\"white-space:pre;overflow-x:auto;line-height:normal;font-family:Menlo,'DejaVu Sans Mono',consolas,'Courier New',monospace\">For the <span style=\"color: #800000; text-decoration-color: #800000; font-weight: bold\">{{</span><span style=\"color: #800000; text-decoration-color: #800000\"> task_name </span><span style=\"color: #800000; text-decoration-color: #800000; font-weight: bold\">}}</span> task <span style=\"color: #800000; text-decoration-color: #800000; font-weight: bold\">{{</span><span style=\"color: #800000; text-decoration-color: #800000\"> nb_runs </span><span style=\"color: #800000; text-decoration-color: #800000; font-weight: bold\">}}</span> of <span style=\"color: #800000; text-decoration-color: #800000; font-weight: bold\">{{</span><span style=\"color: #800000; text-decoration-color: #800000\"> scan_type </span><span style=\"color: #800000; text-decoration-color: #800000; font-weight: bold\">}}</span> EPI <span style=\"color: #800000; text-decoration-color: #800000; font-weight: bold\">{{</span><span style=\"color: #800000; text-decoration-color: #800000\"> seqs </span><span style=\"color: #800000; text-decoration-color: #800000; font-weight: bold\">}}</span> <span style=\"color: #800000; text-decoration-color: #800000; font-weight: bold\">{{</span><span style=\"color: #800000; text-decoration-color: #800000\"> variants </span><span style=\"color: #800000; text-decoration-color: #800000; font-weight: bold\">}}</span> <span style=\"color: #800000; text-decoration-color: #800000; font-weight: bold\">{{</span><span style=\"color: #800000; text-decoration-color: #800000\"> multi_echo </span><span style=\"color: #800000; text-decoration-color: #800000; font-weight: bold\">}}</span> fMRI \n",
       "data were collected. The acquisition parameters were: <span style=\"color: #800000; text-decoration-color: #800000; font-weight: bold\">{{</span><span style=\"color: #800000; text-decoration-color: #800000\"> nb_slices </span><span style=\"color: #800000; text-decoration-color: #800000; font-weight: bold\">}}</span> slices acquired in a <span style=\"color: #800000; text-decoration-color: #800000; font-weight: bold\">{{</span><span style=\"color: #800000; text-decoration-color: #800000\"> so_str </span><span style=\"color: #800000; text-decoration-color: #800000; font-weight: bold\">}}</span> fashion; \n",
       "repetition time, <span style=\"color: #808000; text-decoration-color: #808000\">TR</span>= <span style=\"color: #800000; text-decoration-color: #800000; font-weight: bold\">{{</span><span style=\"color: #800000; text-decoration-color: #800000\"> tr </span><span style=\"color: #800000; text-decoration-color: #800000; font-weight: bold\">}}</span> ms; flip angle, <span style=\"color: #808000; text-decoration-color: #808000\">FA</span>= <span style=\"color: #008080; text-decoration-color: #008080; font-weight: bold\">78</span>°; echo time, <span style=\"color: #808000; text-decoration-color: #808000\">TE</span>= <span style=\"color: #800000; text-decoration-color: #800000; font-weight: bold\">{{</span><span style=\"color: #800000; text-decoration-color: #800000\"> echo_time </span><span style=\"color: #800000; text-decoration-color: #800000; font-weight: bold\">}}</span> ms; <span style=\"color: #800000; text-decoration-color: #800000; font-weight: bold\">{{</span><span style=\"color: #800000; text-decoration-color: #800000\"> slice_order </span><span style=\"color: #800000; text-decoration-color: #800000; font-weight: bold\">}}</span>;  \n",
       "multiband acceleration factor: <span style=\"color: #800000; text-decoration-color: #800000; font-weight: bold\">{{</span><span style=\"color: #800000; text-decoration-color: #800000\"> MultibandAccelerationFactor </span><span style=\"color: #800000; text-decoration-color: #800000; font-weight: bold\">}}</span>;  in-plane acceleration <span style=\"color: #808000; text-decoration-color: #808000\">factor</span>= <span style=\"color: #800000; text-decoration-color: #800000; font-weight: bold\">{{</span><span style=\"color: #800000; text-decoration-color: #800000\"> inplane_accel </span>\n",
       "<span style=\"color: #800000; text-decoration-color: #800000; font-weight: bold\">}}</span>; field of view <span style=\"color: #808000; text-decoration-color: #808000\">FOV</span>= <span style=\"color: #800000; text-decoration-color: #800000; font-weight: bold\">{{</span><span style=\"color: #800000; text-decoration-color: #800000\"> fov </span><span style=\"color: #800000; text-decoration-color: #800000; font-weight: bold\">}}</span> mm; matrix <span style=\"color: #808000; text-decoration-color: #808000\">size</span>= <span style=\"color: #800000; text-decoration-color: #800000; font-weight: bold\">{{</span><span style=\"color: #800000; text-decoration-color: #800000\"> matrix_size </span><span style=\"color: #800000; text-decoration-color: #800000; font-weight: bold\">}}</span>; voxel <span style=\"color: #808000; text-decoration-color: #808000\">size</span>= <span style=\"color: #800000; text-decoration-color: #800000; font-weight: bold\">{{</span><span style=\"color: #800000; text-decoration-color: #800000\"> voxel_size </span><span style=\"color: #800000; text-decoration-color: #800000; font-weight: bold\">}}</span> mm;\n",
       "Each run was <span style=\"color: #800000; text-decoration-color: #800000; font-weight: bold\">{{</span><span style=\"color: #800000; text-decoration-color: #800000\"> duration </span><span style=\"color: #800000; text-decoration-color: #800000; font-weight: bold\">}}</span> minutes in length, during which <span style=\"color: #800000; text-decoration-color: #800000; font-weight: bold\">{{</span><span style=\"color: #800000; text-decoration-color: #800000\"> nb_vols </span><span style=\"color: #800000; text-decoration-color: #800000; font-weight: bold\">}}</span> functional volumes were acquired.\n",
       "<span style=\"color: #800000; text-decoration-color: #800000; font-weight: bold\">{{</span><span style=\"color: #800000; text-decoration-color: #800000\"> TaskDescription </span><span style=\"color: #800000; text-decoration-color: #800000; font-weight: bold\">}}</span>\n",
       "Participants were specifically instructed to: <span style=\"color: #800000; text-decoration-color: #800000; font-weight: bold\">{{</span><span style=\"color: #800000; text-decoration-color: #800000\"> Instructions </span><span style=\"color: #800000; text-decoration-color: #800000; font-weight: bold\">}}</span>\n",
       "</pre>\n"
      ],
      "text/plain": [
       "For the \u001b[1;31m{\u001b[0m\u001b[1;31m{\u001b[0m\u001b[31m task_name \u001b[0m\u001b[1;31m}\u001b[0m\u001b[1;31m}\u001b[0m task \u001b[1;31m{\u001b[0m\u001b[1;31m{\u001b[0m\u001b[31m nb_runs \u001b[0m\u001b[1;31m}\u001b[0m\u001b[1;31m}\u001b[0m of \u001b[1;31m{\u001b[0m\u001b[1;31m{\u001b[0m\u001b[31m scan_type \u001b[0m\u001b[1;31m}\u001b[0m\u001b[1;31m}\u001b[0m EPI \u001b[1;31m{\u001b[0m\u001b[1;31m{\u001b[0m\u001b[31m seqs \u001b[0m\u001b[1;31m}\u001b[0m\u001b[1;31m}\u001b[0m \u001b[1;31m{\u001b[0m\u001b[1;31m{\u001b[0m\u001b[31m variants \u001b[0m\u001b[1;31m}\u001b[0m\u001b[1;31m}\u001b[0m \u001b[1;31m{\u001b[0m\u001b[1;31m{\u001b[0m\u001b[31m multi_echo \u001b[0m\u001b[1;31m}\u001b[0m\u001b[1;31m}\u001b[0m fMRI \n",
       "data were collected. The acquisition parameters were: \u001b[1;31m{\u001b[0m\u001b[1;31m{\u001b[0m\u001b[31m nb_slices \u001b[0m\u001b[1;31m}\u001b[0m\u001b[1;31m}\u001b[0m slices acquired in a \u001b[1;31m{\u001b[0m\u001b[1;31m{\u001b[0m\u001b[31m so_str \u001b[0m\u001b[1;31m}\u001b[0m\u001b[1;31m}\u001b[0m fashion; \n",
       "repetition time, \u001b[33mTR\u001b[0m= \u001b[1;31m{\u001b[0m\u001b[1;31m{\u001b[0m\u001b[31m tr \u001b[0m\u001b[1;31m}\u001b[0m\u001b[1;31m}\u001b[0m ms; flip angle, \u001b[33mFA\u001b[0m= \u001b[1;36m78\u001b[0m°; echo time, \u001b[33mTE\u001b[0m= \u001b[1;31m{\u001b[0m\u001b[1;31m{\u001b[0m\u001b[31m echo_time \u001b[0m\u001b[1;31m}\u001b[0m\u001b[1;31m}\u001b[0m ms; \u001b[1;31m{\u001b[0m\u001b[1;31m{\u001b[0m\u001b[31m slice_order \u001b[0m\u001b[1;31m}\u001b[0m\u001b[1;31m}\u001b[0m;  \n",
       "multiband acceleration factor: \u001b[1;31m{\u001b[0m\u001b[1;31m{\u001b[0m\u001b[31m MultibandAccelerationFactor \u001b[0m\u001b[1;31m}\u001b[0m\u001b[1;31m}\u001b[0m;  in-plane acceleration \u001b[33mfactor\u001b[0m= \u001b[1;31m{\u001b[0m\u001b[1;31m{\u001b[0m\u001b[31m inplane_accel \u001b[0m\n",
       "\u001b[1;31m}\u001b[0m\u001b[1;31m}\u001b[0m; field of view \u001b[33mFOV\u001b[0m= \u001b[1;31m{\u001b[0m\u001b[1;31m{\u001b[0m\u001b[31m fov \u001b[0m\u001b[1;31m}\u001b[0m\u001b[1;31m}\u001b[0m mm; matrix \u001b[33msize\u001b[0m= \u001b[1;31m{\u001b[0m\u001b[1;31m{\u001b[0m\u001b[31m matrix_size \u001b[0m\u001b[1;31m}\u001b[0m\u001b[1;31m}\u001b[0m; voxel \u001b[33msize\u001b[0m= \u001b[1;31m{\u001b[0m\u001b[1;31m{\u001b[0m\u001b[31m voxel_size \u001b[0m\u001b[1;31m}\u001b[0m\u001b[1;31m}\u001b[0m mm;\n",
       "Each run was \u001b[1;31m{\u001b[0m\u001b[1;31m{\u001b[0m\u001b[31m duration \u001b[0m\u001b[1;31m}\u001b[0m\u001b[1;31m}\u001b[0m minutes in length, during which \u001b[1;31m{\u001b[0m\u001b[1;31m{\u001b[0m\u001b[31m nb_vols \u001b[0m\u001b[1;31m}\u001b[0m\u001b[1;31m}\u001b[0m functional volumes were acquired.\n",
       "\u001b[1;31m{\u001b[0m\u001b[1;31m{\u001b[0m\u001b[31m TaskDescription \u001b[0m\u001b[1;31m}\u001b[0m\u001b[1;31m}\u001b[0m\n",
       "Participants were specifically instructed to: \u001b[1;31m{\u001b[0m\u001b[1;31m{\u001b[0m\u001b[31m Instructions \u001b[0m\u001b[1;31m}\u001b[0m\u001b[1;31m}\u001b[0m\n"
      ]
     },
     "metadata": {},
     "output_type": "display_data"
    },
    {
     "data": {
      "text/html": [
       "<pre style=\"white-space:pre;overflow-x:auto;line-height:normal;font-family:Menlo,'DejaVu Sans Mono',consolas,'Courier New',monospace\">\n",
       "<span style=\"font-weight: bold\">## DWI</span>\n",
       "</pre>\n"
      ],
      "text/plain": [
       "\n",
       "\u001b[1m## DWI\u001b[0m\n"
      ]
     },
     "metadata": {},
     "output_type": "display_data"
    },
    {
     "data": {
      "text/html": [
       "<pre style=\"white-space:pre;overflow-x:auto;line-height:normal;font-family:Menlo,'DejaVu Sans Mono',consolas,'Courier New',monospace\"><span style=\"color: #800000; text-decoration-color: #800000; font-weight: bold\">{{</span><span style=\"color: #800000; text-decoration-color: #800000\"> nb_runs </span><span style=\"color: #800000; text-decoration-color: #800000; font-weight: bold\">}}</span> of <span style=\"color: #800000; text-decoration-color: #800000; font-weight: bold\">{{</span><span style=\"color: #800000; text-decoration-color: #800000\"> PulseSequenceType </span><span style=\"color: #800000; text-decoration-color: #800000; font-weight: bold\">}}</span> <span style=\"color: #800000; text-decoration-color: #800000; font-weight: bold\">{{</span><span style=\"color: #800000; text-decoration-color: #800000\"> seqs </span><span style=\"color: #800000; text-decoration-color: #800000; font-weight: bold\">}}</span> <span style=\"color: #800000; text-decoration-color: #800000; font-weight: bold\">{{</span><span style=\"color: #800000; text-decoration-color: #800000\"> variants </span><span style=\"color: #800000; text-decoration-color: #800000; font-weight: bold\">}}</span> diffusion-weighted-imaging <span style=\"font-weight: bold\">(</span><span style=\"color: #800000; text-decoration-color: #800000; font-weight: bold\">{{</span><span style=\"color: #800000; text-decoration-color: #800000\"> scan_type </span><span style=\"color: #800000; text-decoration-color: #800000; font-weight: bold\">}}</span><span style=\"font-weight: bold\">)</span> \n",
       "data were collected <span style=\"font-weight: bold\">(</span><span style=\"color: #800000; text-decoration-color: #800000; font-weight: bold\">{{</span><span style=\"color: #800000; text-decoration-color: #800000\"> nb_slices </span><span style=\"color: #800000; text-decoration-color: #800000; font-weight: bold\">}}</span> slices; repetition time, <span style=\"color: #808000; text-decoration-color: #808000\">TR</span>= <span style=\"color: #800000; text-decoration-color: #800000; font-weight: bold\">{{</span><span style=\"color: #800000; text-decoration-color: #800000\"> tr </span><span style=\"color: #800000; text-decoration-color: #800000; font-weight: bold\">}}</span> ms; flip angle, <span style=\"color: #808000; text-decoration-color: #808000\">FA</span>= <span style=\"color: #008080; text-decoration-color: #008080; font-weight: bold\">90</span>°; echo time, <span style=\"color: #808000; text-decoration-color: #808000\">TE</span>= \n",
       "<span style=\"color: #800000; text-decoration-color: #800000; font-weight: bold\">{{</span><span style=\"color: #800000; text-decoration-color: #800000\"> echo_time </span><span style=\"color: #800000; text-decoration-color: #800000; font-weight: bold\">}}</span> ms; field of view <span style=\"color: #808000; text-decoration-color: #808000\">FOV</span>= <span style=\"color: #800000; text-decoration-color: #800000; font-weight: bold\">{{</span><span style=\"color: #800000; text-decoration-color: #800000\"> fov </span><span style=\"color: #800000; text-decoration-color: #800000; font-weight: bold\">}}</span> mm; matrix <span style=\"color: #808000; text-decoration-color: #808000\">size</span>= <span style=\"color: #800000; text-decoration-color: #800000; font-weight: bold\">{{</span><span style=\"color: #800000; text-decoration-color: #800000\"> matrix_size </span><span style=\"color: #800000; text-decoration-color: #800000; font-weight: bold\">}}</span>; voxel <span style=\"color: #808000; text-decoration-color: #808000\">size</span>= <span style=\"color: #800000; text-decoration-color: #800000; font-weight: bold\">{{</span><span style=\"color: #800000; text-decoration-color: #800000\"> voxel_size </span><span style=\"color: #800000; text-decoration-color: #800000; font-weight: bold\">}}</span> \n",
       "mm; b-values of <span style=\"color: #800000; text-decoration-color: #800000; font-weight: bold\">{{</span><span style=\"color: #800000; text-decoration-color: #800000\"> bvals </span><span style=\"color: #800000; text-decoration-color: #800000; font-weight: bold\">}}</span> acquired; <span style=\"color: #800000; text-decoration-color: #800000; font-weight: bold\">{{</span><span style=\"color: #800000; text-decoration-color: #800000\"> dmri_dir </span><span style=\"color: #800000; text-decoration-color: #800000; font-weight: bold\">}}</span> diffusion directions; <span style=\"color: #800000; text-decoration-color: #800000; font-weight: bold\">{{</span><span style=\"color: #800000; text-decoration-color: #800000\"> multiband_factor </span><span style=\"color: #800000; text-decoration-color: #800000; font-weight: bold\">}}</span> <span style=\"font-weight: bold\">)</span>.\n",
       "\n",
       "</pre>\n"
      ],
      "text/plain": [
       "\u001b[1;31m{\u001b[0m\u001b[1;31m{\u001b[0m\u001b[31m nb_runs \u001b[0m\u001b[1;31m}\u001b[0m\u001b[1;31m}\u001b[0m of \u001b[1;31m{\u001b[0m\u001b[1;31m{\u001b[0m\u001b[31m PulseSequenceType \u001b[0m\u001b[1;31m}\u001b[0m\u001b[1;31m}\u001b[0m \u001b[1;31m{\u001b[0m\u001b[1;31m{\u001b[0m\u001b[31m seqs \u001b[0m\u001b[1;31m}\u001b[0m\u001b[1;31m}\u001b[0m \u001b[1;31m{\u001b[0m\u001b[1;31m{\u001b[0m\u001b[31m variants \u001b[0m\u001b[1;31m}\u001b[0m\u001b[1;31m}\u001b[0m diffusion-weighted-imaging \u001b[1m(\u001b[0m\u001b[1;31m{\u001b[0m\u001b[1;31m{\u001b[0m\u001b[31m scan_type \u001b[0m\u001b[1;31m}\u001b[0m\u001b[1;31m}\u001b[0m\u001b[1m)\u001b[0m \n",
       "data were collected \u001b[1m(\u001b[0m\u001b[1;31m{\u001b[0m\u001b[1;31m{\u001b[0m\u001b[31m nb_slices \u001b[0m\u001b[1;31m}\u001b[0m\u001b[1;31m}\u001b[0m slices; repetition time, \u001b[33mTR\u001b[0m= \u001b[1;31m{\u001b[0m\u001b[1;31m{\u001b[0m\u001b[31m tr \u001b[0m\u001b[1;31m}\u001b[0m\u001b[1;31m}\u001b[0m ms; flip angle, \u001b[33mFA\u001b[0m= \u001b[1;36m90\u001b[0m°; echo time, \u001b[33mTE\u001b[0m= \n",
       "\u001b[1;31m{\u001b[0m\u001b[1;31m{\u001b[0m\u001b[31m echo_time \u001b[0m\u001b[1;31m}\u001b[0m\u001b[1;31m}\u001b[0m ms; field of view \u001b[33mFOV\u001b[0m= \u001b[1;31m{\u001b[0m\u001b[1;31m{\u001b[0m\u001b[31m fov \u001b[0m\u001b[1;31m}\u001b[0m\u001b[1;31m}\u001b[0m mm; matrix \u001b[33msize\u001b[0m= \u001b[1;31m{\u001b[0m\u001b[1;31m{\u001b[0m\u001b[31m matrix_size \u001b[0m\u001b[1;31m}\u001b[0m\u001b[1;31m}\u001b[0m; voxel \u001b[33msize\u001b[0m= \u001b[1;31m{\u001b[0m\u001b[1;31m{\u001b[0m\u001b[31m voxel_size \u001b[0m\u001b[1;31m}\u001b[0m\u001b[1;31m}\u001b[0m \n",
       "mm; b-values of \u001b[1;31m{\u001b[0m\u001b[1;31m{\u001b[0m\u001b[31m bvals \u001b[0m\u001b[1;31m}\u001b[0m\u001b[1;31m}\u001b[0m acquired; \u001b[1;31m{\u001b[0m\u001b[1;31m{\u001b[0m\u001b[31m dmri_dir \u001b[0m\u001b[1;31m}\u001b[0m\u001b[1;31m}\u001b[0m diffusion directions; \u001b[1;31m{\u001b[0m\u001b[1;31m{\u001b[0m\u001b[31m multiband_factor \u001b[0m\u001b[1;31m}\u001b[0m\u001b[1;31m}\u001b[0m \u001b[1m)\u001b[0m.\n",
       "\n"
      ]
     },
     "metadata": {},
     "output_type": "display_data"
    },
    {
     "data": {
      "text/html": [
       "<pre style=\"white-space:pre;overflow-x:auto;line-height:normal;font-family:Menlo,'DejaVu Sans Mono',consolas,'Courier New',monospace\">\n",
       "<span style=\"font-weight: bold\">## PERF</span>\n",
       "</pre>\n"
      ],
      "text/plain": [
       "\n",
       "\u001b[1m## PERF\u001b[0m\n"
      ]
     },
     "metadata": {},
     "output_type": "display_data"
    },
    {
     "data": {
      "text/html": [
       "<pre style=\"white-space:pre;overflow-x:auto;line-height:normal;font-family:Menlo,'DejaVu Sans Mono',consolas,'Courier New',monospace\">\n",
       "<span style=\"font-weight: bold\"># PET</span>\n",
       "</pre>\n"
      ],
      "text/plain": [
       "\n",
       "\u001b[1m# PET\u001b[0m\n"
      ]
     },
     "metadata": {},
     "output_type": "display_data"
    },
    {
     "data": {
      "text/html": [
       "<pre style=\"white-space:pre;overflow-x:auto;line-height:normal;font-family:Menlo,'DejaVu Sans Mono',consolas,'Courier New',monospace\">\n",
       "<span style=\"font-weight: bold\">## PET</span>\n",
       "</pre>\n"
      ],
      "text/plain": [
       "\n",
       "\u001b[1m## PET\u001b[0m\n"
      ]
     },
     "metadata": {},
     "output_type": "display_data"
    },
    {
     "data": {
      "text/html": [
       "<pre style=\"white-space:pre;overflow-x:auto;line-height:normal;font-family:Menlo,'DejaVu Sans Mono',consolas,'Courier New',monospace\">\n",
       "<span style=\"font-weight: bold\"># MEEG</span>\n",
       "</pre>\n"
      ],
      "text/plain": [
       "\n",
       "\u001b[1m# MEEG\u001b[0m\n"
      ]
     },
     "metadata": {},
     "output_type": "display_data"
    },
    {
     "data": {
      "text/html": [
       "<pre style=\"white-space:pre;overflow-x:auto;line-height:normal;font-family:Menlo,'DejaVu Sans Mono',consolas,'Courier New',monospace\">\n",
       "<span style=\"font-weight: bold\">## EEG</span>\n",
       "</pre>\n"
      ],
      "text/plain": [
       "\n",
       "\u001b[1m## EEG\u001b[0m\n"
      ]
     },
     "metadata": {},
     "output_type": "display_data"
    },
    {
     "data": {
      "text/html": [
       "<pre style=\"white-space:pre;overflow-x:auto;line-height:normal;font-family:Menlo,'DejaVu Sans Mono',consolas,'Courier New',monospace\">\n",
       "<span style=\"font-weight: bold\">## MEG</span>\n",
       "</pre>\n"
      ],
      "text/plain": [
       "\n",
       "\u001b[1m## MEG\u001b[0m\n"
      ]
     },
     "metadata": {},
     "output_type": "display_data"
    },
    {
     "data": {
      "text/html": [
       "<pre style=\"white-space:pre;overflow-x:auto;line-height:normal;font-family:Menlo,'DejaVu Sans Mono',consolas,'Courier New',monospace\">Recordings were done using a ElektaVectorview system from ElektaNeuromag with serial number <span style=\"color: #800000; text-decoration-color: #800000; font-weight: bold\">{{</span><span style=\"color: #800000; text-decoration-color: #800000\"> DeviceSerialNumber </span>\n",
       "<span style=\"color: #800000; text-decoration-color: #800000; font-weight: bold\">}}</span>.\n",
       "The software version was <span style=\"color: #800000; text-decoration-color: #800000; font-weight: bold\">{{</span><span style=\"color: #800000; text-decoration-color: #800000\"> SoftwareVersions </span><span style=\"color: #800000; text-decoration-color: #800000; font-weight: bold\">}}</span>.\n",
       "\n",
       "Power line and sampling frequencies were <span style=\"color: #008080; text-decoration-color: #008080; font-weight: bold\">50</span> Hz and <span style=\"color: #008080; text-decoration-color: #008080; font-weight: bold\">1100</span> Hz, respectively.\n",
       "\n",
       "Data was collected with <span style=\"color: #800000; text-decoration-color: #800000; font-weight: bold\">{{</span><span style=\"color: #800000; text-decoration-color: #800000\"> ChannelCount </span><span style=\"color: #800000; text-decoration-color: #800000; font-weight: bold\">}}</span> meg channels, <span style=\"color: #008080; text-decoration-color: #008080; font-weight: bold\">2</span> EOG channels,\n",
       "<span style=\"color: #008080; text-decoration-color: #008080; font-weight: bold\">1</span> ECG channels and <span style=\"color: #008080; text-decoration-color: #008080; font-weight: bold\">0</span> EMG channels recorded simultaneously.\n",
       "\n",
       "Subjects viewed stimuli on a screen during six, <span style=\"color: #008080; text-decoration-color: #008080; font-weight: bold\">7.5</span> minute runs. The stimuli were photographs of either a face or a\n",
       "scrambled face, and appeared for a random duration between <span style=\"color: #008080; text-decoration-color: #008080; font-weight: bold\">800</span> and <span style=\"color: #008080; text-decoration-color: #008080; font-weight: bold\">1</span>,<span style=\"color: #008080; text-decoration-color: #008080; font-weight: bold\">000</span> ms. Subjects were instructed to fixate \n",
       "centrally throughout the experiment. To ensure attention to each stimulus, participants were asked to press one of \n",
       "two keys with either their left or right index finger <span style=\"font-weight: bold\">(</span>assignment counter-balanced across participants<span style=\"font-weight: bold\">)</span>. Their \n",
       "key-press was based on how symmetric they regarded each image: pressing one or the other key depending whether they\n",
       "thought the image was <span style=\"color: #008000; text-decoration-color: #008000\">'more'</span> or <span style=\"color: #008000; text-decoration-color: #008000\">'less symmetric'</span> than average. See publication for more detailed information.\n",
       "Participants were specifically instructed to: <span style=\"color: #800000; text-decoration-color: #800000; font-weight: bold\">{{</span><span style=\"color: #800000; text-decoration-color: #800000\"> Instructions </span><span style=\"color: #800000; text-decoration-color: #800000; font-weight: bold\">}}</span>\n",
       "</pre>\n"
      ],
      "text/plain": [
       "Recordings were done using a ElektaVectorview system from ElektaNeuromag with serial number \u001b[1;31m{\u001b[0m\u001b[1;31m{\u001b[0m\u001b[31m DeviceSerialNumber \u001b[0m\n",
       "\u001b[1;31m}\u001b[0m\u001b[1;31m}\u001b[0m.\n",
       "The software version was \u001b[1;31m{\u001b[0m\u001b[1;31m{\u001b[0m\u001b[31m SoftwareVersions \u001b[0m\u001b[1;31m}\u001b[0m\u001b[1;31m}\u001b[0m.\n",
       "\n",
       "Power line and sampling frequencies were \u001b[1;36m50\u001b[0m Hz and \u001b[1;36m1100\u001b[0m Hz, respectively.\n",
       "\n",
       "Data was collected with \u001b[1;31m{\u001b[0m\u001b[1;31m{\u001b[0m\u001b[31m ChannelCount \u001b[0m\u001b[1;31m}\u001b[0m\u001b[1;31m}\u001b[0m meg channels, \u001b[1;36m2\u001b[0m EOG channels,\n",
       "\u001b[1;36m1\u001b[0m ECG channels and \u001b[1;36m0\u001b[0m EMG channels recorded simultaneously.\n",
       "\n",
       "Subjects viewed stimuli on a screen during six, \u001b[1;36m7.5\u001b[0m minute runs. The stimuli were photographs of either a face or a\n",
       "scrambled face, and appeared for a random duration between \u001b[1;36m800\u001b[0m and \u001b[1;36m1\u001b[0m,\u001b[1;36m000\u001b[0m ms. Subjects were instructed to fixate \n",
       "centrally throughout the experiment. To ensure attention to each stimulus, participants were asked to press one of \n",
       "two keys with either their left or right index finger \u001b[1m(\u001b[0massignment counter-balanced across participants\u001b[1m)\u001b[0m. Their \n",
       "key-press was based on how symmetric they regarded each image: pressing one or the other key depending whether they\n",
       "thought the image was \u001b[32m'more'\u001b[0m or \u001b[32m'less symmetric'\u001b[0m than average. See publication for more detailed information.\n",
       "Participants were specifically instructed to: \u001b[1;31m{\u001b[0m\u001b[1;31m{\u001b[0m\u001b[31m Instructions \u001b[0m\u001b[1;31m}\u001b[0m\u001b[1;31m}\u001b[0m\n"
      ]
     },
     "metadata": {},
     "output_type": "display_data"
    }
   ],
   "source": [
    "# Toggling \"keep\" to True will render the empty variables in RED\n",
    "# Only work with the version of chevron from github and not pypi\n",
    "keep = True\n",
    "\n",
    "# bids examples dataset to work with\n",
    "# see in  \"demos/data/bids-examples\"\n",
    "dataset = \"ds000117\"\n",
    "\n",
    "render_method_section_bids_dataset(dataset=dataset, keep=keep)"
   ]
  }
 ],
 "metadata": {
  "kernelspec": {
   "display_name": "env",
   "language": "python",
   "name": "python3"
  },
  "language_info": {
   "codemirror_mode": {
    "name": "ipython",
    "version": 3
   },
   "file_extension": ".py",
   "mimetype": "text/x-python",
   "name": "python",
   "nbconvert_exporter": "python",
   "pygments_lexer": "ipython3",
   "version": "3.11.3"
  }
 },
 "nbformat": 4,
 "nbformat_minor": 2
}
