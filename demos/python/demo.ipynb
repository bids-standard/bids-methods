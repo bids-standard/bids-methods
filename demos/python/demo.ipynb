{
 "cells": [
  {
   "cell_type": "markdown",
   "metadata": {},
   "source": [
    "Script to view what the templates would look like after rendering."
   ]
  },
  {
   "cell_type": "code",
   "execution_count": 4,
   "metadata": {},
   "outputs": [],
   "source": [
    "from pathlib import Path\n",
    "\n",
    "import chevron\n",
    "from rich import print\n",
    "\n",
    "from bids import BIDSLayout"
   ]
  },
  {
   "cell_type": "code",
   "execution_count": 5,
   "metadata": {},
   "outputs": [],
   "source": [
    "def root_dir() -> Path:\n",
    "    return Path().absolute().parents[1]\n",
    "\n",
    "\n",
    "def highlight_missing_tags(text: str) -> str:\n",
    "    \"\"\"Highlights missing info in red.\"\"\"\n",
    "    text = text.replace(\"{{\", \"[red]{{\")\n",
    "    text = text.replace(\"}}\", \"}}[/red]\")\n",
    "    return text\n",
    "\n",
    "\n",
    "def print_to_screen(layout, template_name, suffix, keep) -> None:\n",
    "    \"\"\"Get files for a certain suffix and render their method section.\"\"\"\n",
    "    files = layout.get(suffix=suffix)\n",
    "\n",
    "    if len(files) < 1:\n",
    "        return\n",
    "\n",
    "    metadata = files[0].get_metadata()\n",
    "    metadata[\"suffix\"] = suffix\n",
    "\n",
    "    render_template(template_name, metadata, keep)\n",
    "\n",
    "\n",
    "def render_template(template_name, metadata, keep) -> None:\n",
    "    \"\"\"Render a specific template\"\"\"\n",
    "    templates_dir = root_dir() / \"templates\"\n",
    "\n",
    "    partials_path = root_dir() / \"partials\"\n",
    "\n",
    "    with open(templates_dir / template_name, \"r\") as template:\n",
    "        args = {\n",
    "            \"template\": template,\n",
    "            \"data\": metadata,\n",
    "            \"partials_path\": partials_path,\n",
    "            \"keep\": keep,\n",
    "        }\n",
    "\n",
    "        text = chevron.render(**args)\n",
    "\n",
    "        print(highlight_missing_tags(text))\n",
    "\n",
    "def render_method_section_bids_dataset(dataset, keep):\n",
    "    data_dir = root_dir() / \"demos\" / \"data\" / \"bids-examples\"\n",
    "\n",
    "    data_path = data_dir / dataset\n",
    "\n",
    "    layout = BIDSLayout(data_path)\n",
    "\n",
    "    # %%\n",
    "    print(f\"\\n[bold]# MRI[/bold]\")\n",
    "\n",
    "    files = layout.get(suffix=\"T1w\")\n",
    "    if len(files) > 1:\n",
    "        metadata = files[0].get_metadata()\n",
    "        render_template(\"institution.mustache\", metadata, keep)\n",
    "        render_template(\"mri_scanner_info.mustache\", metadata, keep)\n",
    "\n",
    "    suffix_template = {\n",
    "        \"T1w\": \"anat\",\n",
    "        \"bold\": \"func\",\n",
    "        \"dwi\": \"dwi\",\n",
    "        \"perf\": \"perf\",\n",
    "    }\n",
    "\n",
    "    for suffix, template in suffix_template.items():\n",
    "        print(f\"\\n[bold]## {suffix.upper()}[/bold]\")\n",
    "        print_to_screen(layout, f\"{template}.mustache\", suffix, keep)\n",
    "\n",
    "    # %%\n",
    "    print(f\"\\n[bold]# PET[/bold]\")\n",
    "\n",
    "    print(f\"\\n[bold]## {'pet'.upper()}[/bold]\")\n",
    "    print_to_screen(layout, \"pet.mustache\", suffix, keep)\n",
    "\n",
    "    # %%\n",
    "    print(f\"\\n[bold]# MEEG[/bold]\")\n",
    "\n",
    "    suffix_template = {\n",
    "        \"eeg\": \"meeg\",\n",
    "        \"meg\": \"meeg\",\n",
    "    }\n",
    "\n",
    "    for suffix, template in suffix_template.items():\n",
    "        print(f\"\\n[bold]## {suffix.upper()}[/bold]\")\n",
    "        print_to_screen(layout, f\"{template}.mustache\", suffix, keep)"
   ]
  },
  {
   "cell_type": "code",
   "execution_count": 6,
   "metadata": {},
   "outputs": [
    {
     "ename": "ValueError",
     "evalue": "BIDS root does not exist: /home/remi/github/bids/pybids-reports/bids/ext/reports/templates/demos/data/bids-examples/ds000117",
     "output_type": "error",
     "traceback": [
      "\u001b[0;31m---------------------------------------------------------------------------\u001b[0m",
      "\u001b[0;31mValueError\u001b[0m                                Traceback (most recent call last)",
      "Cell \u001b[0;32mIn[6], line 9\u001b[0m\n\u001b[1;32m      5\u001b[0m \u001b[38;5;66;03m# bids examples dataset to work with\u001b[39;00m\n\u001b[1;32m      6\u001b[0m \u001b[38;5;66;03m# see in  \"demos/data/bids-examples\"\u001b[39;00m\n\u001b[1;32m      7\u001b[0m dataset \u001b[38;5;241m=\u001b[39m \u001b[38;5;124m\"\u001b[39m\u001b[38;5;124mds000117\u001b[39m\u001b[38;5;124m\"\u001b[39m\n\u001b[0;32m----> 9\u001b[0m \u001b[43mrender_method_section_bids_dataset\u001b[49m\u001b[43m(\u001b[49m\u001b[43mdataset\u001b[49m\u001b[38;5;241;43m=\u001b[39;49m\u001b[43mdataset\u001b[49m\u001b[43m,\u001b[49m\u001b[43m \u001b[49m\u001b[43mkeep\u001b[49m\u001b[38;5;241;43m=\u001b[39;49m\u001b[43mkeep\u001b[49m\u001b[43m)\u001b[49m\n",
      "Cell \u001b[0;32mIn[5], line 48\u001b[0m, in \u001b[0;36mrender_method_section_bids_dataset\u001b[0;34m(dataset, keep)\u001b[0m\n\u001b[1;32m     44\u001b[0m data_dir \u001b[38;5;241m=\u001b[39m root_dir() \u001b[38;5;241m/\u001b[39m \u001b[38;5;124m\"\u001b[39m\u001b[38;5;124mdemos\u001b[39m\u001b[38;5;124m\"\u001b[39m \u001b[38;5;241m/\u001b[39m \u001b[38;5;124m\"\u001b[39m\u001b[38;5;124mdata\u001b[39m\u001b[38;5;124m\"\u001b[39m \u001b[38;5;241m/\u001b[39m \u001b[38;5;124m\"\u001b[39m\u001b[38;5;124mbids-examples\u001b[39m\u001b[38;5;124m\"\u001b[39m\n\u001b[1;32m     46\u001b[0m data_path \u001b[38;5;241m=\u001b[39m data_dir \u001b[38;5;241m/\u001b[39m dataset\n\u001b[0;32m---> 48\u001b[0m layout \u001b[38;5;241m=\u001b[39m \u001b[43mBIDSLayout\u001b[49m\u001b[43m(\u001b[49m\u001b[43mdata_path\u001b[49m\u001b[43m)\u001b[49m\n\u001b[1;32m     50\u001b[0m \u001b[38;5;66;03m# %%\u001b[39;00m\n\u001b[1;32m     51\u001b[0m \u001b[38;5;28mprint\u001b[39m(\u001b[38;5;124mf\u001b[39m\u001b[38;5;124m\"\u001b[39m\u001b[38;5;130;01m\\n\u001b[39;00m\u001b[38;5;124m[bold]# MRI[/bold]\u001b[39m\u001b[38;5;124m\"\u001b[39m)\n",
      "File \u001b[0;32m~/github/bids/pybids-reports/env/lib/python3.11/site-packages/bids/layout/layout.py:135\u001b[0m, in \u001b[0;36mBIDSLayout.__init__\u001b[0;34m(self, root, validate, absolute_paths, derivatives, config, sources, regex_search, database_path, reset_database, indexer, is_derivative, **indexer_kwargs)\u001b[0m\n\u001b[1;32m    132\u001b[0m     config \u001b[38;5;241m=\u001b[39m info\u001b[38;5;241m.\u001b[39mconfig\n\u001b[1;32m    134\u001b[0m \u001b[38;5;66;03m# Validate that a valid BIDS project exists at root\u001b[39;00m\n\u001b[0;32m--> 135\u001b[0m root, description \u001b[38;5;241m=\u001b[39m \u001b[43mvalidate_root\u001b[49m\u001b[43m(\u001b[49m\u001b[43mroot\u001b[49m\u001b[43m,\u001b[49m\u001b[43m \u001b[49m\u001b[43mvalidate\u001b[49m\u001b[43m)\u001b[49m\n\u001b[1;32m    136\u001b[0m \u001b[38;5;28;01mif\u001b[39;00m \u001b[38;5;28many\u001b[39m([\n\u001b[1;32m    137\u001b[0m     is_derivative,\n\u001b[1;32m    138\u001b[0m     description \u001b[38;5;129;01mand\u001b[39;00m description\u001b[38;5;241m.\u001b[39mget(\u001b[38;5;124m\"\u001b[39m\u001b[38;5;124mDatasetType\u001b[39m\u001b[38;5;124m\"\u001b[39m) \u001b[38;5;241m==\u001b[39m \u001b[38;5;124m\"\u001b[39m\u001b[38;5;124mderivative\u001b[39m\u001b[38;5;124m\"\u001b[39m\n\u001b[1;32m    139\u001b[0m ]):\n\u001b[1;32m    140\u001b[0m     \u001b[38;5;28;01mtry\u001b[39;00m:\n",
      "File \u001b[0;32m~/github/bids/pybids-reports/env/lib/python3.11/site-packages/bids/layout/validation.py:70\u001b[0m, in \u001b[0;36mvalidate_root\u001b[0;34m(root, validate)\u001b[0m\n\u001b[1;32m     67\u001b[0m root \u001b[38;5;241m=\u001b[39m root\u001b[38;5;241m.\u001b[39mabsolute()\n\u001b[1;32m     69\u001b[0m \u001b[38;5;28;01mif\u001b[39;00m \u001b[38;5;129;01mnot\u001b[39;00m root\u001b[38;5;241m.\u001b[39mexists():\n\u001b[0;32m---> 70\u001b[0m     \u001b[38;5;28;01mraise\u001b[39;00m \u001b[38;5;167;01mValueError\u001b[39;00m(\u001b[38;5;124m\"\u001b[39m\u001b[38;5;124mBIDS root does not exist: \u001b[39m\u001b[38;5;132;01m%s\u001b[39;00m\u001b[38;5;124m\"\u001b[39m \u001b[38;5;241m%\u001b[39m root)\n\u001b[1;32m     72\u001b[0m target \u001b[38;5;241m=\u001b[39m root \u001b[38;5;241m/\u001b[39m \u001b[38;5;124m'\u001b[39m\u001b[38;5;124mdataset_description.json\u001b[39m\u001b[38;5;124m'\u001b[39m\n\u001b[1;32m     73\u001b[0m \u001b[38;5;28;01mif\u001b[39;00m \u001b[38;5;129;01mnot\u001b[39;00m target\u001b[38;5;241m.\u001b[39mexists():\n",
      "\u001b[0;31mValueError\u001b[0m: BIDS root does not exist: /home/remi/github/bids/pybids-reports/bids/ext/reports/templates/demos/data/bids-examples/ds000117"
     ]
    }
   ],
   "source": [
    "# Toggling \"keep\" to True will render the empty variables in RED\n",
    "# Only work with the version of chevron from github and not pypi\n",
    "keep = True\n",
    "\n",
    "# bids examples dataset to work with\n",
    "# see in  \"demos/data/bids-examples\"\n",
    "dataset = \"ds000117\"\n",
    "\n",
    "render_method_section_bids_dataset(dataset=dataset, keep=keep)"
   ]
  }
 ],
 "metadata": {
  "kernelspec": {
   "display_name": "env",
   "language": "python",
   "name": "python3"
  },
  "language_info": {
   "codemirror_mode": {
    "name": "ipython",
    "version": 3
   },
   "file_extension": ".py",
   "mimetype": "text/x-python",
   "name": "python",
   "nbconvert_exporter": "python",
   "pygments_lexer": "ipython3",
   "version": "3.11.3"
  }
 },
 "nbformat": 4,
 "nbformat_minor": 2
}
